{
 "cells": [
  {
   "cell_type": "markdown",
   "metadata": {},
   "source": [
    "## Connecting to the Database"
   ]
  },
  {
   "cell_type": "code",
   "execution_count": 1,
   "metadata": {},
   "outputs": [
    {
     "name": "stdout",
     "output_type": "stream",
     "text": [
      "Collecting psycopg2-binary\n",
      "  Using cached psycopg2_binary-2.8.6-cp37-cp37m-manylinux1_x86_64.whl (3.0 MB)\n",
      "Installing collected packages: psycopg2-binary\n",
      "Successfully installed psycopg2-binary-2.8.6\n",
      "Note: you may need to restart the kernel to use updated packages.\n"
     ]
    }
   ],
   "source": [
    "pip install psycopg2-binary;"
   ]
  },
  {
   "cell_type": "code",
   "execution_count": 2,
   "metadata": {},
   "outputs": [],
   "source": [
    "import psycopg2"
   ]
  },
  {
   "cell_type": "code",
   "execution_count": 3,
   "metadata": {},
   "outputs": [],
   "source": [
    "# Put the password in \n",
    "PGHOST = 'tripdatabase.cmaaautpgbsf.us-east-2.rds.amazonaws.com'\n",
    "PGDATABASE = ''\n",
    "PGUSER = 'postgres'\n",
    "PGPASSWORD = 'Josh1234'"
   ]
  },
  {
   "cell_type": "code",
   "execution_count": 4,
   "metadata": {},
   "outputs": [
    {
     "name": "stdout",
     "output_type": "stream",
     "text": [
      "Connection Success: ('PostgreSQL 12.4 on x86_64-pc-linux-gnu, compiled by gcc (GCC) 4.8.5 20150623 (Red Hat 4.8.5-11), 64-bit',) \n",
      "\n"
     ]
    }
   ],
   "source": [
    "# Database Context Manager\n",
    "try:   \n",
    "    # Set up a connection to the postgres server.    \n",
    "    conn = psycopg2.connect(user = PGUSER,\n",
    "                            port = \"5432\",\n",
    "                            password = PGPASSWORD,\n",
    "                            host = PGHOST,\n",
    "                            database = PGDATABASE)\n",
    "    # Create a cursor object\n",
    "    cursor = conn.cursor()   \n",
    "    cursor.execute(\"SELECT version();\")\n",
    "    record = cursor.fetchone()\n",
    "    print(\"Connection Success:\", record,\"\\n\")\n",
    "\n",
    "except (Exception, psycopg2.Error) as error:\n",
    "    print(\"Error while connecting to PostgreSQL\", error)"
   ]
  },
  {
   "cell_type": "markdown",
   "metadata": {},
   "source": [
    "## Trip Table Cleaning I: Removing Outliers - Trip Duration\n",
    "We will be using a basic definition of an outlier in this project. An outlier will be defined as any value that is more than 3 times the standard deviation. The trip table has 111M rows in it so unfortunately we cannot directly take the mean and std of the tripduration column because it would take hours to execute. To overcome this we will use a sampling distribution to estimate the population mean and std."
   ]
  },
  {
   "cell_type": "code",
   "execution_count": 5,
   "metadata": {},
   "outputs": [],
   "source": [
    "# Possible Question: Evolution of ride length over time"
   ]
  },
  {
   "cell_type": "code",
   "execution_count": 23,
   "metadata": {},
   "outputs": [
    {
     "data": {
      "text/plain": [
       "<module 'Queries' from '/root/Citi-Bike-Expansion/Queries.py'>"
      ]
     },
     "execution_count": 23,
     "metadata": {},
     "output_type": "execute_result"
    }
   ],
   "source": [
    "import pandas as pd\n",
    "import numpy as np\n",
    "import matplotlib.pyplot as plt\n",
    "import Queries\n",
    "import importlib\n",
    "importlib.reload(Queries)"
   ]
  },
  {
   "cell_type": "markdown",
   "metadata": {},
   "source": [
    "To get a feeling for how the trip duration values are distributed, let's sample 1M rows"
   ]
  },
  {
   "cell_type": "code",
   "execution_count": 50,
   "metadata": {},
   "outputs": [],
   "source": [
    "sample_data = Queries.get_random_100k_rows(conn,shuffles=10)   # Get random samples 100K rows at a time"
   ]
  },
  {
   "cell_type": "code",
   "execution_count": 14,
   "metadata": {},
   "outputs": [
    {
     "data": {
      "text/plain": [
       "count    1000000.000000\n",
       "mean          16.173446\n",
       "std          216.786921\n",
       "min            1.000000\n",
       "25%            6.000000\n",
       "50%           10.000000\n",
       "75%           18.000000\n",
       "max       134941.000000\n",
       "Name: tripduration, dtype: float64"
      ]
     },
     "execution_count": 14,
     "metadata": {},
     "output_type": "execute_result"
    }
   ],
   "source": [
    "sample_data['tripduration'].describe()"
   ]
  },
  {
   "cell_type": "markdown",
   "metadata": {},
   "source": [
    "The mean value of the trip duration column is 16m, but it has a standard deviation of 222m which is nearly 4 hours. Additionally, the 75 percentile of our data is 18m. It is clear that there are trips that are completely skewing our data. To put it in persective, if we use our original definition of an outlier then only trips over 12 hours would be considered outliers. Because the data is so heavily skewed the standard deviation is unreliable to help find outliers."
   ]
  },
  {
   "cell_type": "markdown",
   "metadata": {},
   "source": [
    "Our original outlier identification idea was based on the empirical rule that states 99.7% of data observed following a normal distribution lies within 3 standard deviations of the mean. Since our standard deviation is unreliable we will rip off the underlying idea behind the empirical rule, but with quantiles since they seem to be more representative of real life. Using quantiles, 99% of our data should be between the 0.5th and the 99.5th percentile. Anything above or below those percentile values will be considered outliers"
   ]
  },
  {
   "cell_type": "code",
   "execution_count": 15,
   "metadata": {},
   "outputs": [
    {
     "data": {
      "text/plain": [
       "(1.0, 94.0)"
      ]
     },
     "execution_count": 15,
     "metadata": {},
     "output_type": "execute_result"
    }
   ],
   "source": [
    "sample_data.tripduration.quantile(0.005), sample_data.tripduration.quantile(0.995)"
   ]
  },
  {
   "cell_type": "markdown",
   "metadata": {},
   "source": [
    "Things to Mention\n",
    "- All the trips that are slightly above 1.5 hrs aren't necessarily invalid trips. However, the trips that have a high likelihood of being invalid are above 1.5 hrs. Why? Citibike isn't a service targetted towards long distance rides, which can be seen in their pricing models. The annual membership allows unlimited rides that are capped at 45m. Their day pass allows unlimited rides that are capped at 30m. And a single ride is 3 for 30m. With these finacial thresholds in place, it makes sense why the majority of trips are beneath them. In fact, there is no incentive for a person to keep a bike out for significantly longer than the threshold. If you need the bike for 90m than an as annual rider you park the bike at 45m and then take another bike for the other 45m and not have to pay the extra 6.75 (unless you rode to a place where there aren't any stations to park or the stations have very limited bikes and you don't want to risk your bike being taken and being stranded).\n",
    "- The data is 'sensitive' to quantile changes. Example the 99.5th quantile is 94m the 99th is 62m and the 98th is 46m.\n",
    "- *Although there is only one sample of 1M rows taken, no matter how many times you sample from all the trips the lower quantile is 1 and the upper quantile is close to 96. The reason that I ommitted the many times I sampled was because sampling takes a long time to execute*"
   ]
  },
  {
   "cell_type": "code",
   "execution_count": 9,
   "metadata": {},
   "outputs": [],
   "source": [
    "Queries.delete_duration_outliers(conn)"
   ]
  },
  {
   "cell_type": "markdown",
   "metadata": {},
   "source": [
    "## Trip Table Cleaning II: Removing Time Errors - Start Time After End Time"
   ]
  },
  {
   "cell_type": "markdown",
   "metadata": {},
   "source": [
    "Anytrip with a starttime that was greater than an endtime is an error and will get deleted. It is possible that the two values were just swapped. The cost of swapping them is more expensive than it is worth and it's better to just remove them. The operations of the swap are:\n",
    "- Find the incorrect values\n",
    "- Move them to a temporary table with the correct order\n",
    "- Delete them from the original table\n",
    "- Reinsert them "
   ]
  },
  {
   "cell_type": "code",
   "execution_count": 74,
   "metadata": {},
   "outputs": [],
   "source": [
    "data = Queries.find_time_swaps(conn)"
   ]
  },
  {
   "cell_type": "code",
   "execution_count": 75,
   "metadata": {},
   "outputs": [
    {
     "data": {
      "text/plain": [
       "(201, 8)"
      ]
     },
     "execution_count": 75,
     "metadata": {},
     "output_type": "execute_result"
    }
   ],
   "source": [
    "data.shape"
   ]
  },
  {
   "cell_type": "markdown",
   "metadata": {},
   "source": [
    "From the first step there are barely over 200 incorrectly timed trips returned, continuing to the other steps isn't worth it for such little data. It's less expensive to delete them. "
   ]
  },
  {
   "cell_type": "code",
   "execution_count": 12,
   "metadata": {},
   "outputs": [],
   "source": [
    "Queries.delete_time_swaps(conn)"
   ]
  },
  {
   "cell_type": "markdown",
   "metadata": {},
   "source": [
    "## Trip Table Cleaning III: Handling Outliers - Speed\n",
    "In this section we are going to remove trips whose speeds (MPH) are physically unlikely. Luckily, we have a reference from CitiBike on what a speed outlier might look like. According to them their pedal assisted e-bikes can go up to 18 MPH. In the sport of cycling, although not on a pedal assisted bike, a reasonably experienced cyclist can reach over 19 MPH. Using a nicer whole number, we'll use 20 MPH as a conservative cutoff and anything over that will be considered an outlier. "
   ]
  },
  {
   "cell_type": "code",
   "execution_count": 93,
   "metadata": {},
   "outputs": [],
   "source": [
    "importlib.reload(Queries)\n",
    "sample_data = Queries.get_random_100k_rows(conn, speed=True, distance=True, shuffles=10)"
   ]
  },
  {
   "cell_type": "markdown",
   "metadata": {},
   "source": [
    "We've already took the \"delete data\" path multiple times in this project. We deleted all the NJ trips, the trip duration outliers, and the invalid swaps. Although after all those deletes we still have tons of data (111M to 105M), let's make an effort to conserve data. We are going to cap the speed at 20 MPH, any trip that has a speed over 20 MPH we are going to adjust the trip duration such that the speed is calculated to be 20 MPH. $$\\frac{Distance}{\\frac{Duration}{60}} = 20MPH$$\n",
    "\n",
    "$$\\frac{60 \\times Distance}{20} = 3 \\times Distance = Duration$$"
   ]
  },
  {
   "cell_type": "code",
   "execution_count": 97,
   "metadata": {},
   "outputs": [
    {
     "data": {
      "text/html": [
       "<div>\n",
       "<style scoped>\n",
       "    .dataframe tbody tr th:only-of-type {\n",
       "        vertical-align: middle;\n",
       "    }\n",
       "\n",
       "    .dataframe tbody tr th {\n",
       "        vertical-align: top;\n",
       "    }\n",
       "\n",
       "    .dataframe thead th {\n",
       "        text-align: right;\n",
       "    }\n",
       "</style>\n",
       "<table border=\"1\" class=\"dataframe\">\n",
       "  <thead>\n",
       "    <tr style=\"text-align: right;\">\n",
       "      <th></th>\n",
       "      <th>starttime</th>\n",
       "      <th>endtime</th>\n",
       "      <th>tripduration</th>\n",
       "      <th>startid</th>\n",
       "      <th>endid</th>\n",
       "      <th>usertype</th>\n",
       "      <th>age</th>\n",
       "      <th>gender</th>\n",
       "      <th>distance</th>\n",
       "      <th>MPH</th>\n",
       "    </tr>\n",
       "  </thead>\n",
       "  <tbody>\n",
       "    <tr>\n",
       "      <th>31</th>\n",
       "      <td>2019-02-10 20:55:32.444</td>\n",
       "      <td>2019-02-10 20:59:46.870</td>\n",
       "      <td>4.0</td>\n",
       "      <td>150</td>\n",
       "      <td>150</td>\n",
       "      <td>Subscriber</td>\n",
       "      <td>29.0</td>\n",
       "      <td>1</td>\n",
       "      <td>0.0</td>\n",
       "      <td>0.0</td>\n",
       "    </tr>\n",
       "    <tr>\n",
       "      <th>252</th>\n",
       "      <td>2018-09-14 20:13:27.138</td>\n",
       "      <td>2018-09-14 20:14:40.253</td>\n",
       "      <td>1.0</td>\n",
       "      <td>531</td>\n",
       "      <td>531</td>\n",
       "      <td>Subscriber</td>\n",
       "      <td>50.0</td>\n",
       "      <td>1</td>\n",
       "      <td>0.0</td>\n",
       "      <td>0.0</td>\n",
       "    </tr>\n",
       "    <tr>\n",
       "      <th>479</th>\n",
       "      <td>2014-04-17 15:05:20.000</td>\n",
       "      <td>2014-04-17 15:07:29.000</td>\n",
       "      <td>2.0</td>\n",
       "      <td>341</td>\n",
       "      <td>341</td>\n",
       "      <td>Subscriber</td>\n",
       "      <td>36.0</td>\n",
       "      <td>2</td>\n",
       "      <td>0.0</td>\n",
       "      <td>0.0</td>\n",
       "    </tr>\n",
       "    <tr>\n",
       "      <th>491</th>\n",
       "      <td>2020-06-04 11:01:29.255</td>\n",
       "      <td>2020-06-04 11:03:02.550</td>\n",
       "      <td>1.0</td>\n",
       "      <td>284</td>\n",
       "      <td>284</td>\n",
       "      <td>Subscriber</td>\n",
       "      <td>54.0</td>\n",
       "      <td>1</td>\n",
       "      <td>0.0</td>\n",
       "      <td>0.0</td>\n",
       "    </tr>\n",
       "    <tr>\n",
       "      <th>512</th>\n",
       "      <td>2016-03-11 07:37:25.000</td>\n",
       "      <td>2016-03-11 07:39:06.000</td>\n",
       "      <td>1.0</td>\n",
       "      <td>3145</td>\n",
       "      <td>3145</td>\n",
       "      <td>Subscriber</td>\n",
       "      <td>32.0</td>\n",
       "      <td>1</td>\n",
       "      <td>0.0</td>\n",
       "      <td>0.0</td>\n",
       "    </tr>\n",
       "    <tr>\n",
       "      <th>...</th>\n",
       "      <td>...</td>\n",
       "      <td>...</td>\n",
       "      <td>...</td>\n",
       "      <td>...</td>\n",
       "      <td>...</td>\n",
       "      <td>...</td>\n",
       "      <td>...</td>\n",
       "      <td>...</td>\n",
       "      <td>...</td>\n",
       "      <td>...</td>\n",
       "    </tr>\n",
       "    <tr>\n",
       "      <th>999552</th>\n",
       "      <td>2019-06-15 12:07:14.364</td>\n",
       "      <td>2019-06-15 12:08:49.307</td>\n",
       "      <td>1.0</td>\n",
       "      <td>297</td>\n",
       "      <td>297</td>\n",
       "      <td>Subscriber</td>\n",
       "      <td>36.0</td>\n",
       "      <td>2</td>\n",
       "      <td>0.0</td>\n",
       "      <td>0.0</td>\n",
       "    </tr>\n",
       "    <tr>\n",
       "      <th>999589</th>\n",
       "      <td>2016-07-12 07:07:47.000</td>\n",
       "      <td>2016-07-12 07:09:40.000</td>\n",
       "      <td>1.0</td>\n",
       "      <td>3245</td>\n",
       "      <td>3245</td>\n",
       "      <td>Subscriber</td>\n",
       "      <td>28.0</td>\n",
       "      <td>1</td>\n",
       "      <td>0.0</td>\n",
       "      <td>0.0</td>\n",
       "    </tr>\n",
       "    <tr>\n",
       "      <th>999662</th>\n",
       "      <td>2019-09-05 16:40:04.670</td>\n",
       "      <td>2019-09-05 16:41:17.527</td>\n",
       "      <td>1.0</td>\n",
       "      <td>3664</td>\n",
       "      <td>3664</td>\n",
       "      <td>Subscriber</td>\n",
       "      <td>41.0</td>\n",
       "      <td>1</td>\n",
       "      <td>0.0</td>\n",
       "      <td>0.0</td>\n",
       "    </tr>\n",
       "    <tr>\n",
       "      <th>999667</th>\n",
       "      <td>2020-11-08 18:36:31.729</td>\n",
       "      <td>2020-11-08 18:38:36.529</td>\n",
       "      <td>2.0</td>\n",
       "      <td>3922</td>\n",
       "      <td>3922</td>\n",
       "      <td>Subscriber</td>\n",
       "      <td>27.0</td>\n",
       "      <td>1</td>\n",
       "      <td>0.0</td>\n",
       "      <td>0.0</td>\n",
       "    </tr>\n",
       "    <tr>\n",
       "      <th>999946</th>\n",
       "      <td>2016-08-18 17:40:40.000</td>\n",
       "      <td>2016-08-18 17:41:42.000</td>\n",
       "      <td>1.0</td>\n",
       "      <td>304</td>\n",
       "      <td>304</td>\n",
       "      <td>Customer</td>\n",
       "      <td>-1.0</td>\n",
       "      <td>0</td>\n",
       "      <td>0.0</td>\n",
       "      <td>0.0</td>\n",
       "    </tr>\n",
       "  </tbody>\n",
       "</table>\n",
       "<p>5552 rows × 10 columns</p>\n",
       "</div>"
      ],
      "text/plain": [
       "                     starttime                 endtime  tripduration  startid  \\\n",
       "31     2019-02-10 20:55:32.444 2019-02-10 20:59:46.870           4.0      150   \n",
       "252    2018-09-14 20:13:27.138 2018-09-14 20:14:40.253           1.0      531   \n",
       "479    2014-04-17 15:05:20.000 2014-04-17 15:07:29.000           2.0      341   \n",
       "491    2020-06-04 11:01:29.255 2020-06-04 11:03:02.550           1.0      284   \n",
       "512    2016-03-11 07:37:25.000 2016-03-11 07:39:06.000           1.0     3145   \n",
       "...                        ...                     ...           ...      ...   \n",
       "999552 2019-06-15 12:07:14.364 2019-06-15 12:08:49.307           1.0      297   \n",
       "999589 2016-07-12 07:07:47.000 2016-07-12 07:09:40.000           1.0     3245   \n",
       "999662 2019-09-05 16:40:04.670 2019-09-05 16:41:17.527           1.0     3664   \n",
       "999667 2020-11-08 18:36:31.729 2020-11-08 18:38:36.529           2.0     3922   \n",
       "999946 2016-08-18 17:40:40.000 2016-08-18 17:41:42.000           1.0      304   \n",
       "\n",
       "        endid    usertype   age gender  distance  MPH  \n",
       "31        150  Subscriber  29.0      1       0.0  0.0  \n",
       "252       531  Subscriber  50.0      1       0.0  0.0  \n",
       "479       341  Subscriber  36.0      2       0.0  0.0  \n",
       "491       284  Subscriber  54.0      1       0.0  0.0  \n",
       "512      3145  Subscriber  32.0      1       0.0  0.0  \n",
       "...       ...         ...   ...    ...       ...  ...  \n",
       "999552    297  Subscriber  36.0      2       0.0  0.0  \n",
       "999589   3245  Subscriber  28.0      1       0.0  0.0  \n",
       "999662   3664  Subscriber  41.0      1       0.0  0.0  \n",
       "999667   3922  Subscriber  27.0      1       0.0  0.0  \n",
       "999946    304    Customer  -1.0      0       0.0  0.0  \n",
       "\n",
       "[5552 rows x 10 columns]"
      ]
     },
     "execution_count": 97,
     "metadata": {},
     "output_type": "execute_result"
    }
   ],
   "source": [
    "sample_data[(sample_data.distance ==0) & (sample_data.tripduration < 5)] # any round trip under 5m is getting updated"
   ]
  },
  {
   "cell_type": "code",
   "execution_count": 101,
   "metadata": {},
   "outputs": [
    {
     "data": {
      "text/html": [
       "<div>\n",
       "<style scoped>\n",
       "    .dataframe tbody tr th:only-of-type {\n",
       "        vertical-align: middle;\n",
       "    }\n",
       "\n",
       "    .dataframe tbody tr th {\n",
       "        vertical-align: top;\n",
       "    }\n",
       "\n",
       "    .dataframe thead th {\n",
       "        text-align: right;\n",
       "    }\n",
       "</style>\n",
       "<table border=\"1\" class=\"dataframe\">\n",
       "  <thead>\n",
       "    <tr style=\"text-align: right;\">\n",
       "      <th></th>\n",
       "      <th>starttime</th>\n",
       "      <th>endtime</th>\n",
       "      <th>tripduration</th>\n",
       "      <th>startid</th>\n",
       "      <th>endid</th>\n",
       "      <th>usertype</th>\n",
       "      <th>age</th>\n",
       "      <th>gender</th>\n",
       "      <th>distance</th>\n",
       "      <th>MPH</th>\n",
       "    </tr>\n",
       "  </thead>\n",
       "  <tbody>\n",
       "    <tr>\n",
       "      <th>390</th>\n",
       "      <td>2013-06-15 22:36:19</td>\n",
       "      <td>2013-06-15 22:46:40</td>\n",
       "      <td>10.0</td>\n",
       "      <td>72</td>\n",
       "      <td>415</td>\n",
       "      <td>Customer</td>\n",
       "      <td>-1.0</td>\n",
       "      <td>0</td>\n",
       "      <td>4.39</td>\n",
       "      <td>26.340000</td>\n",
       "    </tr>\n",
       "    <tr>\n",
       "      <th>839</th>\n",
       "      <td>2013-07-23 16:19:23</td>\n",
       "      <td>2013-07-23 16:22:31</td>\n",
       "      <td>3.0</td>\n",
       "      <td>303</td>\n",
       "      <td>458</td>\n",
       "      <td>Subscriber</td>\n",
       "      <td>33.0</td>\n",
       "      <td>1</td>\n",
       "      <td>1.94</td>\n",
       "      <td>38.800000</td>\n",
       "    </tr>\n",
       "    <tr>\n",
       "      <th>992</th>\n",
       "      <td>2013-07-11 18:34:47</td>\n",
       "      <td>2013-07-11 18:43:09</td>\n",
       "      <td>8.0</td>\n",
       "      <td>285</td>\n",
       "      <td>323</td>\n",
       "      <td>Subscriber</td>\n",
       "      <td>52.0</td>\n",
       "      <td>1</td>\n",
       "      <td>2.92</td>\n",
       "      <td>21.900000</td>\n",
       "    </tr>\n",
       "    <tr>\n",
       "      <th>2336</th>\n",
       "      <td>2013-12-05 10:42:53</td>\n",
       "      <td>2013-12-05 10:48:27</td>\n",
       "      <td>5.0</td>\n",
       "      <td>319</td>\n",
       "      <td>505</td>\n",
       "      <td>Subscriber</td>\n",
       "      <td>55.0</td>\n",
       "      <td>1</td>\n",
       "      <td>2.69</td>\n",
       "      <td>32.280000</td>\n",
       "    </tr>\n",
       "    <tr>\n",
       "      <th>3202</th>\n",
       "      <td>2014-01-15 16:25:19</td>\n",
       "      <td>2014-01-15 16:34:16</td>\n",
       "      <td>8.0</td>\n",
       "      <td>268</td>\n",
       "      <td>450</td>\n",
       "      <td>Subscriber</td>\n",
       "      <td>36.0</td>\n",
       "      <td>2</td>\n",
       "      <td>3.04</td>\n",
       "      <td>22.800000</td>\n",
       "    </tr>\n",
       "    <tr>\n",
       "      <th>...</th>\n",
       "      <td>...</td>\n",
       "      <td>...</td>\n",
       "      <td>...</td>\n",
       "      <td>...</td>\n",
       "      <td>...</td>\n",
       "      <td>...</td>\n",
       "      <td>...</td>\n",
       "      <td>...</td>\n",
       "      <td>...</td>\n",
       "      <td>...</td>\n",
       "    </tr>\n",
       "    <tr>\n",
       "      <th>998037</th>\n",
       "      <td>2014-01-05 01:42:53</td>\n",
       "      <td>2014-01-05 01:45:40</td>\n",
       "      <td>2.0</td>\n",
       "      <td>469</td>\n",
       "      <td>379</td>\n",
       "      <td>Subscriber</td>\n",
       "      <td>35.0</td>\n",
       "      <td>1</td>\n",
       "      <td>1.09</td>\n",
       "      <td>32.700000</td>\n",
       "    </tr>\n",
       "    <tr>\n",
       "      <th>998555</th>\n",
       "      <td>2013-10-04 18:00:47</td>\n",
       "      <td>2013-10-04 18:03:59</td>\n",
       "      <td>3.0</td>\n",
       "      <td>458</td>\n",
       "      <td>345</td>\n",
       "      <td>Subscriber</td>\n",
       "      <td>43.0</td>\n",
       "      <td>1</td>\n",
       "      <td>1.11</td>\n",
       "      <td>22.200000</td>\n",
       "    </tr>\n",
       "    <tr>\n",
       "      <th>998958</th>\n",
       "      <td>2013-06-25 13:58:39</td>\n",
       "      <td>2013-06-25 14:05:42</td>\n",
       "      <td>7.0</td>\n",
       "      <td>483</td>\n",
       "      <td>419</td>\n",
       "      <td>Subscriber</td>\n",
       "      <td>42.0</td>\n",
       "      <td>1</td>\n",
       "      <td>2.64</td>\n",
       "      <td>22.628571</td>\n",
       "    </tr>\n",
       "    <tr>\n",
       "      <th>999090</th>\n",
       "      <td>2013-11-11 14:33:41</td>\n",
       "      <td>2013-11-11 14:41:44</td>\n",
       "      <td>8.0</td>\n",
       "      <td>243</td>\n",
       "      <td>510</td>\n",
       "      <td>Subscriber</td>\n",
       "      <td>55.0</td>\n",
       "      <td>1</td>\n",
       "      <td>4.99</td>\n",
       "      <td>37.425000</td>\n",
       "    </tr>\n",
       "    <tr>\n",
       "      <th>999693</th>\n",
       "      <td>2013-08-05 12:56:32</td>\n",
       "      <td>2013-08-05 13:01:50</td>\n",
       "      <td>5.0</td>\n",
       "      <td>305</td>\n",
       "      <td>475</td>\n",
       "      <td>Subscriber</td>\n",
       "      <td>72.0</td>\n",
       "      <td>1</td>\n",
       "      <td>2.07</td>\n",
       "      <td>24.840000</td>\n",
       "    </tr>\n",
       "  </tbody>\n",
       "</table>\n",
       "<p>1800 rows × 10 columns</p>\n",
       "</div>"
      ],
      "text/plain": [
       "                 starttime             endtime  tripduration  startid  endid  \\\n",
       "390    2013-06-15 22:36:19 2013-06-15 22:46:40          10.0       72    415   \n",
       "839    2013-07-23 16:19:23 2013-07-23 16:22:31           3.0      303    458   \n",
       "992    2013-07-11 18:34:47 2013-07-11 18:43:09           8.0      285    323   \n",
       "2336   2013-12-05 10:42:53 2013-12-05 10:48:27           5.0      319    505   \n",
       "3202   2014-01-15 16:25:19 2014-01-15 16:34:16           8.0      268    450   \n",
       "...                    ...                 ...           ...      ...    ...   \n",
       "998037 2014-01-05 01:42:53 2014-01-05 01:45:40           2.0      469    379   \n",
       "998555 2013-10-04 18:00:47 2013-10-04 18:03:59           3.0      458    345   \n",
       "998958 2013-06-25 13:58:39 2013-06-25 14:05:42           7.0      483    419   \n",
       "999090 2013-11-11 14:33:41 2013-11-11 14:41:44           8.0      243    510   \n",
       "999693 2013-08-05 12:56:32 2013-08-05 13:01:50           5.0      305    475   \n",
       "\n",
       "          usertype   age gender  distance        MPH  \n",
       "390       Customer  -1.0      0      4.39  26.340000  \n",
       "839     Subscriber  33.0      1      1.94  38.800000  \n",
       "992     Subscriber  52.0      1      2.92  21.900000  \n",
       "2336    Subscriber  55.0      1      2.69  32.280000  \n",
       "3202    Subscriber  36.0      2      3.04  22.800000  \n",
       "...            ...   ...    ...       ...        ...  \n",
       "998037  Subscriber  35.0      1      1.09  32.700000  \n",
       "998555  Subscriber  43.0      1      1.11  22.200000  \n",
       "998958  Subscriber  42.0      1      2.64  22.628571  \n",
       "999090  Subscriber  55.0      1      4.99  37.425000  \n",
       "999693  Subscriber  72.0      1      2.07  24.840000  \n",
       "\n",
       "[1800 rows x 10 columns]"
      ]
     },
     "execution_count": 101,
     "metadata": {},
     "output_type": "execute_result"
    }
   ],
   "source": [
    "sample_data[sample_data.MPH > 20] # cap speed and change duration"
   ]
  },
  {
   "cell_type": "markdown",
   "metadata": {},
   "source": [
    "We dealt with outliers on the upper end of speed. Now let's deal with values on the lower end up speed. The lower end is tricky because of round trips. Round trips are when a rider starts and ends at the same station. Because of this those trips' distances are calculated as 0 resulting in the speed being zero. The determine whether or not a round trip was valid or not we have to look at the trips duration and make some assumptions. Assumption 1: A valid round trip has a minimum distance of 0.5 miles (0.25 each way). Assumption 2: The rider was traveling at the mean value of 6 MPH. \n",
    "\n",
    "With these assumptions then a valid round trip should have a minimum trip duration of 5 minutes. As before we are going to "
   ]
  }
 ],
 "metadata": {
  "instance_type": "ml.t3.medium",
  "kernelspec": {
   "display_name": "Python 3 (Data Science)",
   "language": "python",
   "name": "python3__SAGEMAKER_INTERNAL__arn:aws:sagemaker:us-east-2:429704687514:image/datascience-1.0"
  },
  "language_info": {
   "codemirror_mode": {
    "name": "ipython",
    "version": 3
   },
   "file_extension": ".py",
   "mimetype": "text/x-python",
   "name": "python",
   "nbconvert_exporter": "python",
   "pygments_lexer": "ipython3",
   "version": "3.7.6"
  }
 },
 "nbformat": 4,
 "nbformat_minor": 4
}
