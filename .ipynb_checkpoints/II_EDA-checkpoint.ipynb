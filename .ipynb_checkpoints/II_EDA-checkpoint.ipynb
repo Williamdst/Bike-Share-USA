{
 "cells": [
  {
   "cell_type": "markdown",
   "metadata": {},
   "source": [
    "## Connecting to the Database"
   ]
  },
  {
   "cell_type": "code",
   "execution_count": null,
   "metadata": {},
   "outputs": [],
   "source": [
    "pip install psycopg2-binary;"
   ]
  },
  {
   "cell_type": "code",
   "execution_count": 2,
   "metadata": {},
   "outputs": [],
   "source": [
    "import psycopg2"
   ]
  },
  {
   "cell_type": "code",
   "execution_count": 3,
   "metadata": {},
   "outputs": [],
   "source": [
    "# Put the password in \n",
    "PGHOST = 'tripdatabase.cmaaautpgbsf.us-east-2.rds.amazonaws.com'\n",
    "PGDATABASE = ''\n",
    "PGUSER = 'postgres'\n",
    "PGPASSWORD = 'Josh1234'"
   ]
  },
  {
   "cell_type": "code",
   "execution_count": 4,
   "metadata": {},
   "outputs": [
    {
     "name": "stdout",
     "output_type": "stream",
     "text": [
      "Connection Success: ('PostgreSQL 12.4 on x86_64-pc-linux-gnu, compiled by gcc (GCC) 4.8.5 20150623 (Red Hat 4.8.5-11), 64-bit',) \n",
      "\n"
     ]
    }
   ],
   "source": [
    "# Database Context Manager\n",
    "try:   \n",
    "    # Set up a connection to the postgres server.    \n",
    "    conn = psycopg2.connect(user = PGUSER,\n",
    "                            port = \"5432\",\n",
    "                            password = PGPASSWORD,\n",
    "                            host = PGHOST,\n",
    "                            database = PGDATABASE)\n",
    "    # Create a cursor object\n",
    "    cursor = conn.cursor()   \n",
    "    cursor.execute(\"SELECT version();\")\n",
    "    record = cursor.fetchone()\n",
    "    print(\"Connection Success:\", record,\"\\n\")\n",
    "\n",
    "except (Exception, psycopg2.Error) as error:\n",
    "    print(\"Error while connecting to PostgreSQL\", error)"
   ]
  },
  {
   "cell_type": "markdown",
   "metadata": {},
   "source": [
    "## Trip Table Cleaning I: Removing Outliers - Trip Duration\n",
    "We will be using a basic definition of an outlier in this project. An outlier will be defined as any value that is more than 3 times the standard deviation. The trip table has 111M rows in it so unfortunately we cannot directly take the mean and std of the tripduration column because it would take hours to execute. To overcome this we will use a sampling distribution to estimate the population mean and std."
   ]
  },
  {
   "cell_type": "code",
   "execution_count": 5,
   "metadata": {},
   "outputs": [],
   "source": [
    "# Possible Question: Evolution of ride length over time"
   ]
  },
  {
   "cell_type": "code",
   "execution_count": 1,
   "metadata": {},
   "outputs": [
    {
     "data": {
      "text/plain": [
       "<module 'Queries' from '/root/Citi-Bike-Expansion/Queries.py'>"
      ]
     },
     "execution_count": 1,
     "metadata": {},
     "output_type": "execute_result"
    }
   ],
   "source": [
    "import pandas as pd\n",
    "import numpy as np\n",
    "import matplotlib.pyplot as plt\n",
    "import Queries\n",
    "import importlib\n",
    "importlib.reload(Queries)"
   ]
  },
  {
   "cell_type": "markdown",
   "metadata": {},
   "source": [
    "To get a feeling for how the trip duration values are distributed, let's sample 1M rows"
   ]
  },
  {
   "cell_type": "code",
   "execution_count": 50,
   "metadata": {},
   "outputs": [],
   "source": [
    "sample_data = Queries.get_random_100k_rows(conn,shuffles=10)   # Get random samples 100K rows at a time"
   ]
  },
  {
   "cell_type": "code",
   "execution_count": 14,
   "metadata": {},
   "outputs": [
    {
     "data": {
      "text/plain": [
       "count    1000000.000000\n",
       "mean          16.173446\n",
       "std          216.786921\n",
       "min            1.000000\n",
       "25%            6.000000\n",
       "50%           10.000000\n",
       "75%           18.000000\n",
       "max       134941.000000\n",
       "Name: tripduration, dtype: float64"
      ]
     },
     "execution_count": 14,
     "metadata": {},
     "output_type": "execute_result"
    }
   ],
   "source": [
    "sample_data['tripduration'].describe()"
   ]
  },
  {
   "cell_type": "markdown",
   "metadata": {},
   "source": [
    "The mean value of the trip duration column is 16m, but it has a standard deviation of 222m which is nearly 4 hours. Additionally, the 75 percentile of our data is 18m. It is clear that there are trips that are completely skewing our data. To put it in persective, if we use our original definition of an outlier then only trips over 12 hours would be considered outliers. Because the data is so heavily skewed the standard deviation is unreliable to help find outliers."
   ]
  },
  {
   "cell_type": "markdown",
   "metadata": {},
   "source": [
    "Our original outlier identification idea was based on the empirical rule that states 99.7% of data observed following a normal distribution lies within 3 standard deviations of the mean. Since our standard deviation is unreliable we will rip off the underlying idea behind the empirical rule, but with quantiles since they seem to be more representative of real life. Using quantiles, 99% of our data should be between the 0.5th and the 99.5th percentile. Anything above or below those percentile values will be considered outliers"
   ]
  },
  {
   "cell_type": "code",
   "execution_count": 15,
   "metadata": {},
   "outputs": [
    {
     "data": {
      "text/plain": [
       "(1.0, 94.0)"
      ]
     },
     "execution_count": 15,
     "metadata": {},
     "output_type": "execute_result"
    }
   ],
   "source": [
    "sample_data.tripduration.quantile(0.005), sample_data.tripduration.quantile(0.995)"
   ]
  },
  {
   "cell_type": "markdown",
   "metadata": {},
   "source": [
    "Things to Mention\n",
    "- All the trips that are slightly above 1.5 hrs aren't necessarily invalid trips. However, the trips that have a high likelihood of being invalid are above 1.5 hrs. Why? Citibike isn't a service targetted towards long distance rides, which can be seen in their pricing models. The annual membership allows unlimited rides that are capped at 45m. Their day pass allows unlimited rides that are capped at 30m. And a single ride is 3 for 30m. With these finacial thresholds in place, it makes sense why the majority of trips are beneath them. In fact, there is no incentive for a person to keep a bike out for significantly longer than the threshold. If you need the bike for 90m than an as annual rider you park the bike at 45m and then take another bike for the other 45m and not have to pay the extra 6.75 (unless you rode to a place where there aren't any stations to park or the stations have very limited bikes and you don't want to risk your bike being taken and being stranded).\n",
    "- The data is 'sensitive' to quantile changes. Example the 99.5th quantile is 94m the 99th is 62m and the 98th is 46m.\n",
    "- *Although there is only one sample of 1M rows taken, no matter how many times you sample from all the trips the lower quantile is 1 and the upper quantile is close to 96. The reason that I ommitted the many times I sampled was because sampling takes a long time to execute*"
   ]
  },
  {
   "cell_type": "code",
   "execution_count": 9,
   "metadata": {},
   "outputs": [],
   "source": [
    "Queries.delete_duration_outliers(conn)"
   ]
  },
  {
   "cell_type": "markdown",
   "metadata": {},
   "source": [
    "## Trip Table Cleaning II: Removing Time Errors - Start Time After End Time"
   ]
  },
  {
   "cell_type": "markdown",
   "metadata": {},
   "source": [
    "Anytrip with a starttime that was greater than an endtime is an error and will get deleted. It is possible that the two values were just swapped. The cost of swapping them is more expensive than it is worth and it's better to just remove them. The operations of the swap are:\n",
    "- Find the incorrect values\n",
    "- Move them to a temporary table with the correct order\n",
    "- Delete them from the original table\n",
    "- Reinsert them "
   ]
  },
  {
   "cell_type": "code",
   "execution_count": 74,
   "metadata": {},
   "outputs": [],
   "source": [
    "data = Queries.find_time_swaps(conn)"
   ]
  },
  {
   "cell_type": "code",
   "execution_count": 75,
   "metadata": {},
   "outputs": [
    {
     "data": {
      "text/plain": [
       "(201, 8)"
      ]
     },
     "execution_count": 75,
     "metadata": {},
     "output_type": "execute_result"
    }
   ],
   "source": [
    "data.shape"
   ]
  },
  {
   "cell_type": "markdown",
   "metadata": {},
   "source": [
    "From the first step there are barely over 200 incorrectly timed trips returned, continuing to the other steps isn't worth it for such little data. It's less expensive to delete them. "
   ]
  },
  {
   "cell_type": "code",
   "execution_count": 12,
   "metadata": {},
   "outputs": [],
   "source": [
    "Queries.delete_time_swaps(conn)"
   ]
  },
  {
   "cell_type": "markdown",
   "metadata": {},
   "source": [
    "## Trip Table Cleaning III: Handling Outliers - Speed\n",
    "In this section we are going to remove trips whose speeds (MPH) are physically unlikely. Luckily, we have a reference from CitiBike on what a speed outlier might look like. According to them their pedal assisted e-bikes can go up to 18 MPH. In the sport of cycling, although not on a pedal assisted bike, a reasonably experienced cyclist can reach over 19 MPH. Using a nicer whole number, we'll use 20 MPH as a conservative cutoff and anything over that will be considered an outlier. "
   ]
  },
  {
   "cell_type": "code",
   "execution_count": 93,
   "metadata": {},
   "outputs": [],
   "source": [
    "sample_data = Queries.get_random_100k_rows(conn, speed=True, distance=True, shuffles=10)"
   ]
  },
  {
   "cell_type": "markdown",
   "metadata": {},
   "source": [
    "We've already took the \"delete data\" path multiple times in this project. We deleted all the NJ trips, the trip duration outliers, and the invalid swaps. Although after all those deletes we still have tons of data (111M to 105M), let's make an effort to conserve data. To handle speed outliers, we are going to cap the speed at 20 MPH. Any trip that has a speed over 20 MPH we are going to adjust the trip duration in a way that when the speed is calculated it will result in 20 MPH. $$\\frac{Distance}{\\frac{Duration}{60}} = 20$$\n",
    "\n",
    "$$\\frac{60 \\times Distance}{20} = 3 \\times Distance = Duration$$"
   ]
  },
  {
   "cell_type": "markdown",
   "metadata": {},
   "source": [
    "Based off the formula, we will have to find the trips whose speed is above 20 MPH and set it to 20 MPH, then update tripduration by multiplying the distance by 3. **Before we can do any of this we need to create the distance and speed column**. The 'trip' table doesn't have distance and speed columns so they have to be manufactured. It's more efficient to recreate the 'trip' table from scratch and add in the columns then to try to update the prexisting table. The new table with the distance and speed columns will be called 'trip_ds'"
   ]
  },
  {
   "cell_type": "code",
   "execution_count": null,
   "metadata": {},
   "outputs": [],
   "source": [
    "Queries.recreate_trip()"
   ]
  },
  {
   "cell_type": "code",
   "execution_count": null,
   "metadata": {},
   "outputs": [],
   "source": [
    "speed_outliers_query = \"\"\"\n",
    "            UPDATE trip_ds\n",
    "            SET speed = 20,\n",
    "                tripduration = distance * 3\n",
    "            WHERE speed > 20;\n",
    "            \"\"\"\n",
    "Queries.execute_query(conn,speed_outliers_query)"
   ]
  },
  {
   "cell_type": "markdown",
   "metadata": {},
   "source": [
    "We dealt with outliers on the upper end of speed. Now let's deal with values on the lower end up speed. The lower end is tricky because of round trips. Round trips are when a rider starts and ends at the same station. Because of this, those trips' distances are calculated as 0 resulting in the speed being zero. To determine whether or not a round trip was valid or not we have to take into consideration the duration of the trip. To fix these outliers two assumptions will be made.\n",
    "- Assumption 1: A valid round trip has a minimum distance of 0.5 miles (0.25 each way). \n",
    "- Assumption 2: The rider was traveling at the mean speed value of 6 MPH (mean calculated after filtering out the 0 MPH trips)\n",
    "\n",
    "Combining both assumptions, a valid round trip should have a minimum trip duration of 5 minutes. Any trip that has a distance of 0 and a tripduration less than 5 we will set the tripduration to 5, set the speed to 6 MPH, and set the distance to 0.5 miles"
   ]
  },
  {
   "cell_type": "code",
   "execution_count": null,
   "metadata": {},
   "outputs": [],
   "source": [
    "roundtrip_outliers_query = \"\"\"\n",
    "                UPDATE trip_ds\n",
    "                SET tripduration = 5,\n",
    "                    distance = 0.5,\n",
    "                    speed = 6\n",
    "                WHERE distance = 0 \n",
    "                AND tripduration < 5;\n",
    "                \"\"\"\n",
    "Queries.execute_query(conn, roundtrip_outliers_query)"
   ]
  }
 ],
 "metadata": {
  "instance_type": "ml.t3.medium",
  "kernelspec": {
   "display_name": "Python 3 (Data Science)",
   "language": "python",
   "name": "python3__SAGEMAKER_INTERNAL__arn:aws:sagemaker:us-east-2:429704687514:image/datascience-1.0"
  },
  "language_info": {
   "codemirror_mode": {
    "name": "ipython",
    "version": 3
   },
   "file_extension": ".py",
   "mimetype": "text/x-python",
   "name": "python",
   "nbconvert_exporter": "python",
   "pygments_lexer": "ipython3",
   "version": "3.7.6"
  }
 },
 "nbformat": 4,
 "nbformat_minor": 4
}
