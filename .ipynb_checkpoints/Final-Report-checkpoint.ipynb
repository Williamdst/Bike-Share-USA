{
 "cells": [
  {
   "cell_type": "code",
   "execution_count": 6,
   "metadata": {
    "tags": [
     "hide-cell"
    ]
   },
   "outputs": [
    {
     "ename": "SyntaxError",
     "evalue": "invalid syntax (<ipython-input-6-bc4c36f384c8>, line 1)",
     "output_type": "error",
     "traceback": [
      "\u001b[0;36m  File \u001b[0;32m\"<ipython-input-6-bc4c36f384c8>\"\u001b[0;36m, line \u001b[0;32m1\u001b[0m\n\u001b[0;31m    jupyter nbconvert --to pdf --TemplateExporter.exclude_input=True my_notebook.ipynb\u001b[0m\n\u001b[0m                    ^\u001b[0m\n\u001b[0;31mSyntaxError\u001b[0m\u001b[0;31m:\u001b[0m invalid syntax\n"
     ]
    }
   ],
   "source": [
    "jupyter nbconvert --to pdf --TemplateExporter.exclude_input=True my_notebook.ipynb"
   ]
  },
  {
   "cell_type": "code",
   "execution_count": 2,
   "metadata": {
    "tags": "hide-cell"
   },
   "outputs": [
    {
     "name": "stdout",
     "output_type": "stream",
     "text": [
      "Collecting psycopg2-binary\n",
      "  Using cached psycopg2_binary-2.8.6-cp37-cp37m-manylinux1_x86_64.whl (3.0 MB)\n",
      "Installing collected packages: psycopg2-binary\n",
      "Successfully installed psycopg2-binary-2.8.6\n",
      "Note: you may need to restart the kernel to use updated packages.\n"
     ]
    }
   ],
   "source": [
    "pip install psycopg2-binary;"
   ]
  },
  {
   "cell_type": "code",
   "execution_count": 3,
   "metadata": {
    "tags": [
     "hide-cell"
    ]
   },
   "outputs": [],
   "source": [
    "import matplotlib.pyplot as plt\n",
    "from matplotlib.patches import Rectangle\n",
    "import numpy as np\n",
    "import os\n",
    "import pandas as pd\n",
    "import psycopg2\n",
    "import seaborn as sns\n",
    "import sys"
   ]
  },
  {
   "cell_type": "code",
   "execution_count": 4,
   "metadata": {
    "tags": [
     "hide-cell"
    ]
   },
   "outputs": [],
   "source": [
    "sys.path.append(os.path.join(os.getcwd(),'Data','Scripts'))\n",
    "import Queries"
   ]
  },
  {
   "cell_type": "code",
   "execution_count": 5,
   "metadata": {
    "tags": [
     "hide-cell"
    ]
   },
   "outputs": [],
   "source": [
    "# Put the password in \n",
    "PGHOST = 'tripdatabase2.cmaaautpgbsf.us-east-2.rds.amazonaws.com'\n",
    "PGDATABASE = ''\n",
    "PGUSER = 'postgres'\n",
    "PGPASSWORD = 'Josh1234'"
   ]
  },
  {
   "cell_type": "code",
   "execution_count": 6,
   "metadata": {
    "tags": [
     "hide-cell"
    ]
   },
   "outputs": [],
   "source": [
    "# Database Context Manager\n",
    "try:   \n",
    "    # Set up a connection to the postgres server.    \n",
    "    conn = psycopg2.connect(user = PGUSER,\n",
    "                            port = \"5432\",\n",
    "                            password = PGPASSWORD,\n",
    "                            host = PGHOST,\n",
    "                            database = PGDATABASE)\n",
    "    # Create a cursor object\n",
    "    cursor = conn.cursor()   \n",
    "except (Exception, psycopg2.Error) as error:\n",
    "    pass"
   ]
  },
  {
   "cell_type": "code",
   "execution_count": 7,
   "metadata": {
    "tags": [
     "hide-cell"
    ]
   },
   "outputs": [],
   "source": [
    "services = ['bay', 'blue', 'capital', 'citi', 'divvy']"
   ]
  },
  {
   "cell_type": "markdown",
   "metadata": {},
   "source": [
    "<p style=\"text-align:center;\"> Bike Share USA </p>"
   ]
  },
  {
   "cell_type": "markdown",
   "metadata": {},
   "source": [
    "## 0. Introduction\n",
    "\n",
    "Every major human advancement improved how people, things, or ideas moved from one point to another. Ancient innovations such as agriculture, providing us with a surplus of food, enabling us to stop moving and build civilizations. Present day innovations such as the Internet has taken movement to all new levels. On top of the back of the internet you can order a package and have it delivered by day end. On top of the back of the internet you can send software money, permissionlessly, from one end of the world to another. Most importantly, the internet enables the global movement of information at near instant speeds. \n",
    "\n",
    "When it comes to the physical transportation of people, intra-planet space travel and self-driving cars are the talk of the town. However, the greatest macro transportation revolution is happening on a micro level.  Micromobility refers to a range of small, lightweight vehicles operating at speeds typically below 15 mph and driven by users personally. Micromobility devices include, bicycles, e-bikes, electric scooters and skateboards, shared bicycles, and electric pedal assisted bicycles [1]. "
   ]
  },
  {
   "cell_type": "markdown",
   "metadata": {},
   "source": [
    "<div style=\"clear: right;\">\n",
    "   <p style=\"float: right;\"> \n",
    "       <figure style=\"float:right;text-align:center\">\n",
    "           <img src=\"./Data/Images/Report/Shared-Micromobility-Graph.png\" width=\"450\" height=\"450\" />\n",
    "           <figcaption> Caption </figcaption>\n",
    "       </figure>\n",
    "   </p>\n",
    "   <p>According to the 2019 Shared Micromobility Snapshot, published by the National Association of City Transportation Officials (NACTO), the number of trips taken on shared bikes, e-bikes, and scooters was 136 million up 60% from 2018’s 84 million and 288% from 2017’s 35 million [2].  Although there is not any official data about transportation mode shifting, their survey data suggests that Micromobility might be replacing car trips. The United States has about 19,495 incorporated cities, towns, and villages and of those, 310 are considered at least medium cities with populations of 100,000 or more [3]. Looking at the NACTO map there are only about 130 cities that have micromobility services. Imagine if there were micromobility services in all 310 of those cities. Better yet, imagine every part of the United States having micromobility services and instead of a sparse map the shared micromobility map resembled a 4G LTE Coverage map. \n",
    "    </p>\n",
    "</div>"
   ]
  },
  {
   "cell_type": "markdown",
   "metadata": {},
   "source": [
    "<figure>\n",
    "    <img src=\"./Data/Images/Report/Shared-Micromobility-Map.png\" style=\"max-width=50%;\" />\n",
    "    <figcaption style=\"text-align:center\"> Caption </figcaption>\n",
    "<figure>\n",
    "    \n",
    "<p style=\"text-align:center;\"> <b>The goal of this project is to expand the bike sharing sector of micromobility into every zip code across the country. The question that this project is looking to answer is: How many bike share stations should be in any given zip code in the United States?</b></p> "
   ]
  },
  {
   "cell_type": "markdown",
   "metadata": {},
   "source": [
    "## I. The Data Engineering\n",
    "\n",
    "The data used to complete the project can be broken into four major groups. The first two groups were fundamental to completing the project, the last two were only required for the Exploratory Data Analytics (EDA):\n",
    "\n",
    "<p style=\"text-align:right\"> <b> A. Bike Share Trip Datasets </b> </p>\n",
    "The subset of zip codes that have bike stations are derived from the five largest bike sharing services in the US: Bay Wheels, Blue Bike, Capital Bikeshare, Citi Bike, and Divvy Bike. Each company hosts their trip data on S3 buckets for public use. \n",
    "These datasets hold key information about each trip that was taken by their customers. The rows of the datasets represent a single trip, and the columns are the properties of the trip such as the starting station and the time when the trip ended. Since the trip data has the start and end station included, the trip data was used to derive the station data.\n",
    "\n",
    "<p style=\"text-align:right\"> <b> B. Zip Code Datasets </b> </p>\n",
    "All the zip codes of the US along with the properties of the zip code. Properties such as the total population, core based statistical area type, and water area are included. \n",
    "    \n",
    "<p style=\"text-align:right\"> <b> C. Geospatial Datasets </b> </p>\n",
    "New York City (NYC) and San Francisco has geospatial boundaries of the segmented neighborhoods in them. The datasets in this group contain those geospatial multi-polygons.\n",
    "    \n",
    "<p style=\"text-align:right\"> <b> D. Neighborhood Profile Datasets </b> </p>\n",
    "The datasets in this group have the demographics of the neighborhoods within New York City and San Francisco. These demographics, when combined with the geospatial data were used to do two custom analyses in the EDA portion of the project. The analysis used both the station location point geometries and the Voronoi polygons of the station locations. "
   ]
  },
  {
   "cell_type": "markdown",
   "metadata": {},
   "source": [
    "<p style=\"text-align:center;\"> <b> 1.1 ETL & The Database</b> </p>\n",
    "\n",
    "All together there were ten different datasets of data which summed to 68 GB of data across 350+ files. To work with this data, the best course of action was to build a database. Leveraging the Amazon Web Services (AWS) Cloud a RDS Database running PostgreSQL 12.5 was created on a db.t3.micro instance.  \n",
    "\n",
    "With the blank database created, before doing anything, it was important to think about how the data was going to be used for analytics to determine how it should be feed into the database. With that idea in mind an Entity Relationship Diagram (ERD) was created to structure the database and guide the transformation portion of the upcoming Extract Transform Load (ETL) jobs. \n",
    "\n",
    "<figure style=\"text-align:center\">\n",
    "    <img src=\"./Data/Images/Report/ERD-Final.png\" style=\"max-width:65%\" />\n",
    "    <figcaption style=\"text-align:center\"> Caption </figcaption>\n",
    "</figure>"
   ]
  },
  {
   "cell_type": "markdown",
   "metadata": {},
   "source": [
    "<p style=\"text-align:right\"> <b> 1.1.A Extract</b> </p>\n",
    "    \n",
    "The first part of the project was a series of massive ETL jobs. The data had to be extracted from websites, S3 buckets, zip folders, csv files, pdf files, excel files, and geo spatial files. As with using RDS, one goal of the project was to leverage the basic services of AWS, so the data was extracted and indirectly uploaded  to a personal S3 bucket. \n",
    "\n",
    "Only the bike share trip data and the neighborhood profile data needed to be extracted via code. The other two groups were a simple download. For each individual bike service, a custom set of functions and loops were used to create the requests for all the relevant files from the company’s S3 bucket, unzipping the zip folder, and then extracting and saving the relevant files within the folder. \n",
    "    \n",
    "The NYC neighborhood data is hosted at the <a href=\"https://furmancenter.org/neighborhoods\"> Furman Center </a>. On the website there is a dropdown menu used to navigate to the different neighborhoods where you can download the excel file. Using the BeautifulSoup package the dropdown menu was scraped to get the codes which could be used to construct the request directly to the file.\n",
    "    \n",
    "When it comes to the San Francisco data it had to be pulled out of a PDF file. The file was a report that originated from the <a href=\"https://default.sfplanning.org/publications_reports/SF_NGBD_SocioEconomic_Profiles/2012-2016_ACS_Profile_Neighborhoods_Final.pdf\"> SF Planning Department</a> and the data in the file was structured exactly the same for each neighborhood. Using the PyPDF2 package, I iterated through every relevant page of the report extracting out the lines of data that was required."
   ]
  },
  {
   "cell_type": "markdown",
   "metadata": {},
   "source": [
    "<p style=\"text-align:right\"> <b> 1.1.B Transform</b> </p>\n",
    "\n",
    "After the extraction three main technologies used in the transformation phase were: Python and the Pandas package, PostgreSQL, and the Google Cloud Platform (GCP) Geocoding API. \n",
    "    \n",
    "The files were going to be sent to their appropriate staging table which meant their formats had to align with the staging table design. This required replacing missing values, reordering columns, inserting columns, changing data types, and doing string replacements for every trip file for every service. To handle this, like the extraction phase, custom functions were made to transform all the trip files within a bike service. Once transformed loading the data into the database took a handful of lines of code. \n",
    "    \n",
    "    IMPORT SAMPLE\n",
    "    \n",
    "\n",
    "Embedded within every trip is the station information for both the starting station and the ending station for the trip. With all the trip data inside the staging tables a simple DISTINCT query returns a data frame that with all the stations and the information associated with them. When pulled down from the database, most stations had latitude and longitude data that was used to create append a point geometry to the returned data frame. However, the core piece of data needed to complete the project, the zip code, didn’t exist. To get the zip codes the geographic coordinates were sent to the GCP Geocoding API and the zip code was extracted. By 2020 most stations had coordinates attached to them. If the coordinates were not available, the name of the station was sent to the GCP Geocoding API combined with Region Filtering and the zip code was extracted. If both things failed the zip code was manually found through different search methods. \n",
    "    \n",
    "The zip codes found were then appended to the data frame. With the zip codes in place the station data aligned with the database design and was loaded into the corresponding station table. Using the data in the staging and the stations schema the trip table was created within the database using a query to select the desired columns. The query also manufactured 4 artificial columns:\n",
    "\n",
    "<ol>\n",
    "    <li> Subtracting the starting time from the ending time of the trips returned the duration in minutes.\n",
    "    <li> Using the station point geometries the distance between the starting station and the ending station was calculated in miles.\n",
    "    <li> If both the duration and the distance column weren’t null, then the speed of the trip was calculated in mph.\n",
    "    <li> The name of the service for each trip. This was a constant value for every trip within a trip table. \n",
    "</ol>\n",
    "\n",
    "    IMPORT SAMPLE\n",
    "    \n",
    "The NYC Neighborhood data downloaded from the Furman Center was split across two tables. The profile table contained the actual data, and the other table was just a lookup table that had the name and the descriptions of the columns in the profile table.\n",
    "The properties of the NYC Neighborhoods are grouped into different categories, such as Demographics and Housing Market and Conditions. In the lookup table each property is given an alias based on the group that it is in and its position in the group. For example, the percentage of people born in New York State is the first property in the demographics group, so it is aliased DEM1. Additionally, the full name and description will get their own columns.\n",
    "    \n",
    "Each NYC Neighborhood Profile excel file has, as rows, the properties of the neighborhood the neighborhood. The columns of the files are different years of recorded data. In the project we only used the most recent 2018 data. Each of the 59 files had to be individually pivoted into a single row. The single rows were glued together to create one data frame that was sent to the database.\n",
    "\n",
    "<i> The zip code data did not require that many transformations before sending it to the database. The only things that were done were changing column names and filling missing values.</i>  \n",
    "    "
   ]
  },
  {
   "cell_type": "markdown",
   "metadata": {},
   "source": [
    "<p style=\"text-align:center;\"> <b> 1.2 Cleaning & Updating</b> </p>\n",
    "\n",
    "The stations were derived from the entire history of trips. The problem with this is that the ecosystem of stations in a bike sharing service is always changing. The services add new stations, remove stations, and occasionally move stations to nearby locations. It is important that the current state of the ecosystem be known when making predictions about zip codes. The model shouldn’t count a retired station in a zip codes station count. Using the trip table, two new columns were added to the tables in the station schema. The birth column recorded the first time a station appeared in a trip and the death column recorded the last time a station appeared in a column. From there, stations that had a death date within December 2020 were considered alive and their death dates were set to NULL. The birth and death columns unlocked the ability to look at the state of ecosystem of the services at any point in time. "
   ]
  },
  {
   "cell_type": "markdown",
   "metadata": {},
   "source": [
    "<p style=\"text-align:right\"> <b> 1.2.A Trip Table Cleaning - Basic Cleaning</b> </p>\n",
    "\n",
    "The first set of cleaning regarding the trip table was handling outliers in the speed column. Trips that had speed values too high had to be handled different from speed values that were zero. \n",
    "    \n",
    "According to different facts from the services, reports, and articles the maximum that a pedal assisted e-bike can achieve is 18-mph. A conservative value of 20-mph was used to define a speed outlier. Trips that had speeds over 20 mph were adjusted. The speed was set to 20 mph and the duration was adjusted since the distance isn’t variable.\n",
    "\n",
    "$$\\frac{Distance}{\\frac{Duration}{60}} = 20 \\longrightarrow \\text{Solving for Duration} \\longrightarrow Duration = 3 \\times Distance$$\n",
    "\n",
    "Round trips have a speed of 0 mph because they start and end at the same station which means their distance is 0 resulting in a speed of 0. For round trips the speed was set to the average speed of 6 mph. Using the same as before, the speed was set to a constant value and since duration is there, the distance column was updated. \n",
    "\n",
    "$$\\frac{Distance}{\\frac{Duration}{60}} = 6 \\longrightarrow \\text{Solving for Distance} \\longrightarrow Distance = \\frac{Duration}{10}$$\n",
    "\n",
    "With the speed outliers handled the next cleaning task was to remove trips where the start time was after the end time. These trips were removed because the quantity of trips that had this error did not justify the cost associated with fixing them."
   ]
  },
  {
   "cell_type": "markdown",
   "metadata": {},
   "source": [
    "<p style=\"text-align:right\"> <b> 1.2.B Trip Table Cleaning - Duration Outliers</b> </p>\n",
    "\n",
    "The first issue when trying to clean the duration outliers is handling the million of rows that are in each of the five trip tables. Trying to determine outliers by querying the entire table is extremely inefficient and thus required a sample. However, using the built in Bernoulli sampling of PostgreSQL was just as inefficient as query the entire table. The samples not only had to be random, be the number of trips selected in the sample had to be large enough, and the query had to be decently fast. To meet all three conditions a sampling procedure was created to get a million rows from each trip table. ADD SAMPLING PROCEDURE TO APPENDIX\n",
    "\n",
    "INSERT IMAGE\n",
    "\n",
    "From the boxplot it looks like all of duration distributions are similar in the sense that they are drastically skewed to the right. Standard deviation ranges from 2.9 – 19.2 hours and the 75% quantile barely break 20m whereas the maximum values are in the thousands of minutes. Because of this skew, if we want to determine outliers the mean and standard deviation are not reliable.  With such a drastic skew, the quantiles are a significantly better measure to determine outliers as they are more representative of real life.  Each different sample has their own distributions so there isn’t a one size fits all quantile measure that can be used for all the samples. 66 mins might be the 99th percentile for Service A, but the 99th percentile for Service B may be at 160 mins. The question then becomes: Do riders that use bike sharing take the same length of trips, regardless of the service? If so, is there a universal duration time that could be used across all bike share services. \n",
    "\n",
    "Asking if riders that use bike sharing services take the same length of trips, what is really being asked is if the duration of the samples taken are all pulled from the same underlying distribution.  Comparing a single dependent variable across five different non-normal samples meet the conditions for the Kruskal-Wallis Test with the:\n",
    "\n",
    "<ul>\n",
    "    <li> Null Hypothesis $H_0$: The samples all originate from the same distribution and have the same median values.\n",
    "    <li> Alternative Hypothesis $H_1$: At least one sample originates from a different distribution and has a different median. \n",
    "</ul>\n",
    "\n",
    "The Scipy package was used to conduct this test and the p-value returned was 0, meaning there is enough evidence to reject H_0 at any significance level. The alternative hypothesis of the Kruskal-Wallis Test states that at least one sample originates from a different distribution, but it doesn’t say anything about how the samples are compare pairwise.  On a pairwise level the Mann-Whitney U Test was used to compare the samples with the sample null and alternate as the Kruskal-Wallis Test. All 10 tests resulted in a p-value of 0, meaning that riders of different bike share companies don’t ride for the same amounts of time.\n",
    "\n",
    "Although the statistical tests failed, I still wanted to find a single outlier value that could work for all the services. So what we looked for is a “Quantile Threshold”. The aim was to keep no less than 95% of all the trip data for each service. Therefore, we were looking for two values, one for the lower end and the upper end, that would return at least 95% of the data for every service. To find those values we took found the 97.5th quantile for every service and took the highest value of the group as the upper cutoff. Similarly, the 2.5th quantile was found for every service and we took the lowest of the group.   Those two values were used as a “pseudo universal” cutoff value.  For every service, trips with a duration above 87.3 minutes or below 2.21 minutes was removed from the trip table. Using those values the percentage of data kept ranged from 96 to 97.5% \n"
   ]
  },
  {
   "cell_type": "markdown",
   "metadata": {},
   "source": [
    "## II. Exploratory Data Analytics\n",
    "\n",
    "Since the focus of the project is not on trip data only basic analysis was done on the trip data directly, the trip data was mainly used as a secondary source to highlight analysis on the station data"
   ]
  },
  {
   "cell_type": "markdown",
   "metadata": {},
   "source": [
    "<p style=\"text-align:center;\"> <b> 2.1 Basic Exploratory Analysis for Trips</b> </p>\n",
    "\n",
    "The first question asked was how may trips were taken per month for each service across the service’s entire lifetime. \n",
    "The number of trips taken over time for each service, except Bay Wheels, ebbs, and flows. This rise and fall may be due to the changing seasons from winter to summer and back in the four cities that the services are based in (Boston, Washington D.C. New York City, Chicago). Temperatures begin to rise into spring and reaches its heights in summer and the number of riders follow this pattern. When temperatures drop going into winter the number of trips drop as well. When it comes to Bay Wheels, this weather pattern doesn’t really apply because the winter climate there is mild and rainy, more comparable to the spring climate in the other cities. \n",
    "\n",
    "In line with the NACTO report, over time, both peaks and troughs for the four services that have the seasonality pattern were gradually getting higher. Higher highs and higher lows implies an uptrend and in this context an uptrend is equivalent to increased ridership. \n",
    "\n",
    "As with all things, COVID-19 did influence the number of trips in 2020. In the first months of 2020 the number of trips had a massive drop off going into April instead of following its usual behavior of a steady rise.  When there are lockdowns in place, people aren’t leaving their house, let alone getting on a public bicycle. \n",
    "Drilling down a little further I looked at the number of trips aggregated on the hour.  What stands out is that all of the graphs look the same for every service. Every hour across the country (ignoring time zones) the services receive the same levels of traffic. \n",
    "<ol>\n",
    "    <li> During the 06:00 hour the trips begin to increase hitting its peak during the 08:00 hour.\n",
    "    <li> Then from 09:00 – 15:00 the number of trips taken remains stable.\n",
    "    <li> Followed by a secondary volume increase at 16:00 reaching its highs during the 17:00 and 18:00 hours.\n",
    "    <li> Finally, the trips slowly taper off and repeats the cycle in the morning. \n",
    "</ol>   \n",
    "\n",
    "It is likely that people are using the bike services to commute to work. This would explain the two demand spikes during the day as they coincide with rush hour times [4].\n",
    "\n",
    "Naturally, the next question is to determine whether the cycle repeats every day of the week or do certain days differ from others. It turns out that on an hour basis, weekends have a similar structure different than that of the weekdays. Weekends do not have the sharp rises and declines that are associated with rush hour. The number of trips gradually rises and then gradually falls; slightly resembling the path of the sun in the sky. \n",
    "\n"
   ]
  },
  {
   "cell_type": "code",
   "execution_count": 11,
   "metadata": {},
   "outputs": [],
   "source": [
    "station_growth = pd.DataFrame(data = {'year': ['2010-01-01', '2011-01-01', '2012-01-01',\n",
    "                                      '2013-01-01', '2014-01-01', '2015-01-01',\n",
    "                                      '2016-01-01', '2017-01-01', '2018-01-01',\n",
    "                                      '2019-01-01', '2020-01-01']})\n",
    "\n",
    "station_growth.year = pd.to_datetime(station_growth.year, infer_datetime_format = True)\n",
    "\n",
    "for service in services:   \n",
    "    df = Queries.station_growth(conn, service)\n",
    "    station_growth = station_growth.merge(df, how='left', on='year')\n",
    "    \n",
    "station_growth['year'] = station_growth['year'].apply(lambda x: x.strftime('%Y'))\n",
    "station_growth.set_index('year',inplace=True)\n",
    "station_growth.fillna(0, inplace=True)\n",
    "station_growth = station_growth.astype('int32')"
   ]
  },
  {
   "cell_type": "markdown",
   "metadata": {},
   "source": [
    "<a id=\"Station_Growth\"> </a>"
   ]
  },
  {
   "cell_type": "code",
   "execution_count": 12,
   "metadata": {},
   "outputs": [
    {
     "data": {
      "text/html": [
       "<div>\n",
       "<style scoped>\n",
       "    .dataframe tbody tr th:only-of-type {\n",
       "        vertical-align: middle;\n",
       "    }\n",
       "\n",
       "    .dataframe tbody tr th {\n",
       "        vertical-align: top;\n",
       "    }\n",
       "\n",
       "    .dataframe thead th {\n",
       "        text-align: right;\n",
       "    }\n",
       "</style>\n",
       "<table border=\"1\" class=\"dataframe\">\n",
       "  <thead>\n",
       "    <tr style=\"text-align: right;\">\n",
       "      <th></th>\n",
       "      <th>bay_added</th>\n",
       "      <th>bay_total</th>\n",
       "      <th>blue_added</th>\n",
       "      <th>blue_total</th>\n",
       "      <th>capital_added</th>\n",
       "      <th>capital_total</th>\n",
       "      <th>citi_added</th>\n",
       "      <th>citi_total</th>\n",
       "      <th>divvy_added</th>\n",
       "      <th>divvy_total</th>\n",
       "    </tr>\n",
       "    <tr>\n",
       "      <th>year</th>\n",
       "      <th></th>\n",
       "      <th></th>\n",
       "      <th></th>\n",
       "      <th></th>\n",
       "      <th></th>\n",
       "      <th></th>\n",
       "      <th></th>\n",
       "      <th></th>\n",
       "      <th></th>\n",
       "      <th></th>\n",
       "    </tr>\n",
       "  </thead>\n",
       "  <tbody>\n",
       "    <tr>\n",
       "      <th>2010</th>\n",
       "      <td>0</td>\n",
       "      <td>0</td>\n",
       "      <td>0</td>\n",
       "      <td>0</td>\n",
       "      <td>106</td>\n",
       "      <td>106</td>\n",
       "      <td>0</td>\n",
       "      <td>0</td>\n",
       "      <td>0</td>\n",
       "      <td>0</td>\n",
       "    </tr>\n",
       "    <tr>\n",
       "      <th>2011</th>\n",
       "      <td>0</td>\n",
       "      <td>0</td>\n",
       "      <td>0</td>\n",
       "      <td>0</td>\n",
       "      <td>38</td>\n",
       "      <td>144</td>\n",
       "      <td>0</td>\n",
       "      <td>0</td>\n",
       "      <td>0</td>\n",
       "      <td>0</td>\n",
       "    </tr>\n",
       "    <tr>\n",
       "      <th>2012</th>\n",
       "      <td>0</td>\n",
       "      <td>0</td>\n",
       "      <td>0</td>\n",
       "      <td>0</td>\n",
       "      <td>50</td>\n",
       "      <td>194</td>\n",
       "      <td>0</td>\n",
       "      <td>0</td>\n",
       "      <td>0</td>\n",
       "      <td>0</td>\n",
       "    </tr>\n",
       "    <tr>\n",
       "      <th>2013</th>\n",
       "      <td>0</td>\n",
       "      <td>0</td>\n",
       "      <td>0</td>\n",
       "      <td>0</td>\n",
       "      <td>111</td>\n",
       "      <td>305</td>\n",
       "      <td>335</td>\n",
       "      <td>335</td>\n",
       "      <td>300</td>\n",
       "      <td>300</td>\n",
       "    </tr>\n",
       "    <tr>\n",
       "      <th>2014</th>\n",
       "      <td>0</td>\n",
       "      <td>0</td>\n",
       "      <td>0</td>\n",
       "      <td>0</td>\n",
       "      <td>41</td>\n",
       "      <td>346</td>\n",
       "      <td>0</td>\n",
       "      <td>0</td>\n",
       "      <td>0</td>\n",
       "      <td>0</td>\n",
       "    </tr>\n",
       "    <tr>\n",
       "      <th>2015</th>\n",
       "      <td>0</td>\n",
       "      <td>0</td>\n",
       "      <td>154</td>\n",
       "      <td>154</td>\n",
       "      <td>11</td>\n",
       "      <td>357</td>\n",
       "      <td>144</td>\n",
       "      <td>479</td>\n",
       "      <td>175</td>\n",
       "      <td>475</td>\n",
       "    </tr>\n",
       "    <tr>\n",
       "      <th>2016</th>\n",
       "      <td>0</td>\n",
       "      <td>0</td>\n",
       "      <td>33</td>\n",
       "      <td>187</td>\n",
       "      <td>77</td>\n",
       "      <td>434</td>\n",
       "      <td>145</td>\n",
       "      <td>624</td>\n",
       "      <td>105</td>\n",
       "      <td>580</td>\n",
       "    </tr>\n",
       "    <tr>\n",
       "      <th>2017</th>\n",
       "      <td>269</td>\n",
       "      <td>269</td>\n",
       "      <td>11</td>\n",
       "      <td>198</td>\n",
       "      <td>52</td>\n",
       "      <td>486</td>\n",
       "      <td>153</td>\n",
       "      <td>777</td>\n",
       "      <td>5</td>\n",
       "      <td>585</td>\n",
       "    </tr>\n",
       "    <tr>\n",
       "      <th>2018</th>\n",
       "      <td>55</td>\n",
       "      <td>324</td>\n",
       "      <td>71</td>\n",
       "      <td>269</td>\n",
       "      <td>42</td>\n",
       "      <td>528</td>\n",
       "      <td>11</td>\n",
       "      <td>788</td>\n",
       "      <td>18</td>\n",
       "      <td>603</td>\n",
       "    </tr>\n",
       "    <tr>\n",
       "      <th>2019</th>\n",
       "      <td>100</td>\n",
       "      <td>424</td>\n",
       "      <td>63</td>\n",
       "      <td>332</td>\n",
       "      <td>52</td>\n",
       "      <td>580</td>\n",
       "      <td>111</td>\n",
       "      <td>899</td>\n",
       "      <td>9</td>\n",
       "      <td>612</td>\n",
       "    </tr>\n",
       "    <tr>\n",
       "      <th>2020</th>\n",
       "      <td>27</td>\n",
       "      <td>451</td>\n",
       "      <td>-11</td>\n",
       "      <td>321</td>\n",
       "      <td>30</td>\n",
       "      <td>610</td>\n",
       "      <td>275</td>\n",
       "      <td>1174</td>\n",
       "      <td>21</td>\n",
       "      <td>633</td>\n",
       "    </tr>\n",
       "  </tbody>\n",
       "</table>\n",
       "</div>"
      ],
      "text/plain": [
       "      bay_added  bay_total  blue_added  blue_total  capital_added  \\\n",
       "year                                                                \n",
       "2010          0          0           0           0            106   \n",
       "2011          0          0           0           0             38   \n",
       "2012          0          0           0           0             50   \n",
       "2013          0          0           0           0            111   \n",
       "2014          0          0           0           0             41   \n",
       "2015          0          0         154         154             11   \n",
       "2016          0          0          33         187             77   \n",
       "2017        269        269          11         198             52   \n",
       "2018         55        324          71         269             42   \n",
       "2019        100        424          63         332             52   \n",
       "2020         27        451         -11         321             30   \n",
       "\n",
       "      capital_total  citi_added  citi_total  divvy_added  divvy_total  \n",
       "year                                                                   \n",
       "2010            106           0           0            0            0  \n",
       "2011            144           0           0            0            0  \n",
       "2012            194           0           0            0            0  \n",
       "2013            305         335         335          300          300  \n",
       "2014            346           0           0            0            0  \n",
       "2015            357         144         479          175          475  \n",
       "2016            434         145         624          105          580  \n",
       "2017            486         153         777            5          585  \n",
       "2018            528          11         788           18          603  \n",
       "2019            580         111         899            9          612  \n",
       "2020            610         275        1174           21          633  "
      ]
     },
     "execution_count": 12,
     "metadata": {},
     "output_type": "execute_result"
    }
   ],
   "source": [
    "station_growth"
   ]
  },
  {
   "cell_type": "code",
   "execution_count": null,
   "metadata": {},
   "outputs": [],
   "source": []
  }
 ],
 "metadata": {
  "instance_type": "ml.t3.medium",
  "kernelspec": {
   "display_name": "Python 3 (Data Science)",
   "language": "python",
   "name": "python3__SAGEMAKER_INTERNAL__arn:aws:sagemaker:us-east-2:429704687514:image/datascience-1.0"
  },
  "language_info": {
   "codemirror_mode": {
    "name": "ipython",
    "version": 3
   },
   "file_extension": ".py",
   "mimetype": "text/x-python",
   "name": "python",
   "nbconvert_exporter": "python",
   "pygments_lexer": "ipython3",
   "version": "3.7.10"
  }
 },
 "nbformat": 4,
 "nbformat_minor": 4
}
