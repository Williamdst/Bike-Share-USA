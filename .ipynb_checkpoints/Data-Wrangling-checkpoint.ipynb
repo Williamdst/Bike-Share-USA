{
 "cells": [
  {
   "cell_type": "markdown",
   "metadata": {},
   "source": [
    "## Grabing the Data From the CitiBike S3 Bucket"
   ]
  },
  {
   "cell_type": "code",
   "execution_count": 1,
   "metadata": {},
   "outputs": [],
   "source": [
    "import pandas as pd\n",
    "import requests, glob, zipfile, io   # Needed to pull data from CitiBike S3 bucket\n",
    "import os"
   ]
  },
  {
   "cell_type": "code",
   "execution_count": 95,
   "metadata": {},
   "outputs": [],
   "source": [
    "CITIBIKE_DATA_FOLDER = \"https://s3.amazonaws.com/tripdata/\"    \n",
    "DATA_FOLDER = \"/root/Citi-Bike-Expansion/TripData/\""
   ]
  },
  {
   "cell_type": "code",
   "execution_count": 96,
   "metadata": {},
   "outputs": [],
   "source": [
    "if not os.path.exists(DATA_FOLDER):\n",
    "    os.makedirs(DATA_FOLDER)"
   ]
  },
  {
   "cell_type": "code",
   "execution_count": 113,
   "metadata": {},
   "outputs": [],
   "source": [
    "def pull_data(filename):   \n",
    "    try:\n",
    "        r = requests.get(CITIBIKE_DATA_FOLDER + filename, stream=True)   \n",
    "        r.raise_for_status()\n",
    "    except requests.exceptions.HTTPError as errh:\n",
    "        try:\n",
    "            r = requests.get(CITIBIKE_DATA_FOLDER + filename[:-4] + '.csv.' + filename[-3:])\n",
    "            r.raise_for_status()\n",
    "        except requests.exceptions.HTTPError as errh: \n",
    "            print(errh)\n",
    "            return False\n",
    "        else:\n",
    "            print(f\"Request Success: {filename} requested from Citibike S3 Bucket\")       \n",
    "    except requests.exceptions.ConnectionError as errc:\n",
    "        print(errc)\n",
    "        return False\n",
    "    except requests.exceptions.Timeout as errt:\n",
    "        print(errt)\n",
    "        return False\n",
    "    except requests.exceptions.RequestException as err:\n",
    "        print(err)\n",
    "        return False\n",
    "    else:\n",
    "        print(f\"Request Success: {filename} requested from Citibike S3 Bucket\")\n",
    "    \n",
    "    \n",
    "    #.content is an attribute of the request.Response() object that returns the conent of object in bytes\n",
    "    with zipfile.ZipFile(io.BytesIO(r.content), 'r') as zip: \n",
    "        datafile = zip.namelist()[0]   # The namelist method returns a list of all files in the directory the actual data is always first\n",
    "               \n",
    "        if os.path.exists(DATA_FOLDER + datafile):\n",
    "            print(f\"Skipped: {datafile} already extracted from Citbike S3 Bucket \\n\")\n",
    "            return True\n",
    "        \n",
    "        zip.extract(datafile, path = DATA_FOLDER)\n",
    "    \n",
    "    print(f\"Extract Success: {datafile} unzipped and uploaded to {DATA_FOLDER} \\n\")\n",
    "    return True"
   ]
  },
  {
   "cell_type": "code",
   "execution_count": 94,
   "metadata": {},
   "outputs": [],
   "source": [
    "yearlist = [\"2013\", \"2014\", \"2015\", \"2016\", \"2017\", \"2018\", \"2019\", \"2020\"]\n",
    "monthlist = [\"01\", \"02\", \"03\", \"04\", \"05\", \"06\", \"07\", \"08\", \"09\", \"10\", \"11\", \"12\"]"
   ]
  },
  {
   "cell_type": "code",
   "execution_count": 84,
   "metadata": {},
   "outputs": [
    {
     "name": "stdout",
     "output_type": "stream",
     "text": [
      "404 Client Error: Not Found for url: https://s3.amazonaws.com/tripdata/201301-citibike-tripdata.zip\n",
      "404 Client Error: Not Found for url: https://s3.amazonaws.com/tripdata/201301-citibike-tripdata.csv.zip\n",
      "404 Client Error: Not Found for url: https://s3.amazonaws.com/tripdata/201302-citibike-tripdata.zip\n",
      "404 Client Error: Not Found for url: https://s3.amazonaws.com/tripdata/201302-citibike-tripdata.csv.zip\n",
      "404 Client Error: Not Found for url: https://s3.amazonaws.com/tripdata/201303-citibike-tripdata.zip\n",
      "404 Client Error: Not Found for url: https://s3.amazonaws.com/tripdata/201303-citibike-tripdata.csv.zip\n",
      "404 Client Error: Not Found for url: https://s3.amazonaws.com/tripdata/201304-citibike-tripdata.zip\n",
      "404 Client Error: Not Found for url: https://s3.amazonaws.com/tripdata/201304-citibike-tripdata.csv.zip\n",
      "404 Client Error: Not Found for url: https://s3.amazonaws.com/tripdata/201305-citibike-tripdata.zip\n",
      "404 Client Error: Not Found for url: https://s3.amazonaws.com/tripdata/201305-citibike-tripdata.csv.zip\n",
      "Data File: 201306-citibike-tripdata.csv already extracted from bucket\n",
      "404 Client Error: Not Found for url: https://s3.amazonaws.com/tripdata/201701-citibike-tripdata.zip\n",
      "404 Client Error: Not Found for url: https://s3.amazonaws.com/tripdata/201702-citibike-tripdata.zip\n",
      "404 Client Error: Not Found for url: https://s3.amazonaws.com/tripdata/201703-citibike-tripdata.zip\n",
      "404 Client Error: Not Found for url: https://s3.amazonaws.com/tripdata/201704-citibike-tripdata.zip\n",
      "404 Client Error: Not Found for url: https://s3.amazonaws.com/tripdata/201705-citibike-tripdata.zip\n",
      "404 Client Error: Not Found for url: https://s3.amazonaws.com/tripdata/201706-citibike-tripdata.zip\n",
      "404 Client Error: Not Found for url: https://s3.amazonaws.com/tripdata/201707-citibike-tripdata.zip\n",
      "404 Client Error: Not Found for url: https://s3.amazonaws.com/tripdata/201708-citibike-tripdata.zip\n",
      "404 Client Error: Not Found for url: https://s3.amazonaws.com/tripdata/201709-citibike-tripdata.zip\n",
      "404 Client Error: Not Found for url: https://s3.amazonaws.com/tripdata/201710-citibike-tripdata.zip\n",
      "404 Client Error: Not Found for url: https://s3.amazonaws.com/tripdata/201711-citibike-tripdata.zip\n",
      "404 Client Error: Not Found for url: https://s3.amazonaws.com/tripdata/201712-citibike-tripdata.zip\n",
      "404 Client Error: Not Found for url: https://s3.amazonaws.com/tripdata/201801-citibike-tripdata.zip\n",
      "404 Client Error: Not Found for url: https://s3.amazonaws.com/tripdata/201802-citibike-tripdata.zip\n",
      "404 Client Error: Not Found for url: https://s3.amazonaws.com/tripdata/201803-citibike-tripdata.zip\n",
      "404 Client Error: Not Found for url: https://s3.amazonaws.com/tripdata/201804-citibike-tripdata.zip\n",
      "404 Client Error: Not Found for url: https://s3.amazonaws.com/tripdata/201805-citibike-tripdata.zip\n",
      "404 Client Error: Not Found for url: https://s3.amazonaws.com/tripdata/201806-citibike-tripdata.zip\n",
      "404 Client Error: Not Found for url: https://s3.amazonaws.com/tripdata/201807-citibike-tripdata.zip\n",
      "404 Client Error: Not Found for url: https://s3.amazonaws.com/tripdata/201808-citibike-tripdata.zip\n",
      "404 Client Error: Not Found for url: https://s3.amazonaws.com/tripdata/201809-citibike-tripdata.zip\n",
      "404 Client Error: Not Found for url: https://s3.amazonaws.com/tripdata/201810-citibike-tripdata.zip\n"
     ]
    },
    {
     "ename": "KeyboardInterrupt",
     "evalue": "",
     "output_type": "error",
     "traceback": [
      "\u001b[0;31m---------------------------------------------------------------------------\u001b[0m",
      "\u001b[0;31mKeyboardInterrupt\u001b[0m                         Traceback (most recent call last)",
      "\u001b[0;32m<ipython-input-84-05e9ef416d42>\u001b[0m in \u001b[0;36m<module>\u001b[0;34m\u001b[0m\n\u001b[1;32m      2\u001b[0m     \u001b[0;32mfor\u001b[0m \u001b[0mmonth\u001b[0m \u001b[0;32min\u001b[0m \u001b[0mmonthlist\u001b[0m\u001b[0;34m:\u001b[0m\u001b[0;34m\u001b[0m\u001b[0;34m\u001b[0m\u001b[0m\n\u001b[1;32m      3\u001b[0m         \u001b[0;32mif\u001b[0m \u001b[0;32mnot\u001b[0m \u001b[0mpull_data\u001b[0m\u001b[0;34m(\u001b[0m\u001b[0;34mf\"{year}{month}-citibike-tripdata.zip\"\u001b[0m\u001b[0;34m)\u001b[0m\u001b[0;34m:\u001b[0m\u001b[0;34m\u001b[0m\u001b[0;34m\u001b[0m\u001b[0m\n\u001b[0;32m----> 4\u001b[0;31m             \u001b[0mpull_data\u001b[0m\u001b[0;34m(\u001b[0m\u001b[0;34mf\"{year}{month}-citibike-tripdata.csv.zip\"\u001b[0m\u001b[0;34m)\u001b[0m\u001b[0;34m\u001b[0m\u001b[0;34m\u001b[0m\u001b[0m\n\u001b[0m",
      "\u001b[0;32m<ipython-input-82-f8b1c14a90f0>\u001b[0m in \u001b[0;36mpull_data\u001b[0;34m(filename)\u001b[0m\n\u001b[1;32m     26\u001b[0m             \u001b[0;32mreturn\u001b[0m \u001b[0;32mTrue\u001b[0m\u001b[0;34m\u001b[0m\u001b[0;34m\u001b[0m\u001b[0m\n\u001b[1;32m     27\u001b[0m \u001b[0;34m\u001b[0m\u001b[0m\n\u001b[0;32m---> 28\u001b[0;31m         \u001b[0mzip\u001b[0m\u001b[0;34m.\u001b[0m\u001b[0mextract\u001b[0m\u001b[0;34m(\u001b[0m\u001b[0mdatafile\u001b[0m\u001b[0;34m,\u001b[0m \u001b[0mpath\u001b[0m \u001b[0;34m=\u001b[0m \u001b[0mDATA_FOLDER\u001b[0m\u001b[0;34m)\u001b[0m\u001b[0;34m\u001b[0m\u001b[0;34m\u001b[0m\u001b[0m\n\u001b[0m\u001b[1;32m     29\u001b[0m \u001b[0;34m\u001b[0m\u001b[0m\n\u001b[1;32m     30\u001b[0m     \u001b[0;32mreturn\u001b[0m \u001b[0;32mTrue\u001b[0m\u001b[0;34m\u001b[0m\u001b[0;34m\u001b[0m\u001b[0m\n",
      "\u001b[0;32m/opt/conda/lib/python3.7/zipfile.py\u001b[0m in \u001b[0;36mextract\u001b[0;34m(self, member, path, pwd)\u001b[0m\n\u001b[1;32m   1617\u001b[0m             \u001b[0mpath\u001b[0m \u001b[0;34m=\u001b[0m \u001b[0mos\u001b[0m\u001b[0;34m.\u001b[0m\u001b[0mfspath\u001b[0m\u001b[0;34m(\u001b[0m\u001b[0mpath\u001b[0m\u001b[0;34m)\u001b[0m\u001b[0;34m\u001b[0m\u001b[0;34m\u001b[0m\u001b[0m\n\u001b[1;32m   1618\u001b[0m \u001b[0;34m\u001b[0m\u001b[0m\n\u001b[0;32m-> 1619\u001b[0;31m         \u001b[0;32mreturn\u001b[0m \u001b[0mself\u001b[0m\u001b[0;34m.\u001b[0m\u001b[0m_extract_member\u001b[0m\u001b[0;34m(\u001b[0m\u001b[0mmember\u001b[0m\u001b[0;34m,\u001b[0m \u001b[0mpath\u001b[0m\u001b[0;34m,\u001b[0m \u001b[0mpwd\u001b[0m\u001b[0;34m)\u001b[0m\u001b[0;34m\u001b[0m\u001b[0;34m\u001b[0m\u001b[0m\n\u001b[0m\u001b[1;32m   1620\u001b[0m \u001b[0;34m\u001b[0m\u001b[0m\n\u001b[1;32m   1621\u001b[0m     \u001b[0;32mdef\u001b[0m \u001b[0mextractall\u001b[0m\u001b[0;34m(\u001b[0m\u001b[0mself\u001b[0m\u001b[0;34m,\u001b[0m \u001b[0mpath\u001b[0m\u001b[0;34m=\u001b[0m\u001b[0;32mNone\u001b[0m\u001b[0;34m,\u001b[0m \u001b[0mmembers\u001b[0m\u001b[0;34m=\u001b[0m\u001b[0;32mNone\u001b[0m\u001b[0;34m,\u001b[0m \u001b[0mpwd\u001b[0m\u001b[0;34m=\u001b[0m\u001b[0;32mNone\u001b[0m\u001b[0;34m)\u001b[0m\u001b[0;34m:\u001b[0m\u001b[0;34m\u001b[0m\u001b[0;34m\u001b[0m\u001b[0m\n",
      "\u001b[0;32m/opt/conda/lib/python3.7/zipfile.py\u001b[0m in \u001b[0;36m_extract_member\u001b[0;34m(self, member, targetpath, pwd)\u001b[0m\n\u001b[1;32m   1689\u001b[0m         \u001b[0;32mwith\u001b[0m \u001b[0mself\u001b[0m\u001b[0;34m.\u001b[0m\u001b[0mopen\u001b[0m\u001b[0;34m(\u001b[0m\u001b[0mmember\u001b[0m\u001b[0;34m,\u001b[0m \u001b[0mpwd\u001b[0m\u001b[0;34m=\u001b[0m\u001b[0mpwd\u001b[0m\u001b[0;34m)\u001b[0m \u001b[0;32mas\u001b[0m \u001b[0msource\u001b[0m\u001b[0;34m,\u001b[0m\u001b[0;31m \u001b[0m\u001b[0;31m\\\u001b[0m\u001b[0;34m\u001b[0m\u001b[0;34m\u001b[0m\u001b[0m\n\u001b[1;32m   1690\u001b[0m              \u001b[0mopen\u001b[0m\u001b[0;34m(\u001b[0m\u001b[0mtargetpath\u001b[0m\u001b[0;34m,\u001b[0m \u001b[0;34m\"wb\"\u001b[0m\u001b[0;34m)\u001b[0m \u001b[0;32mas\u001b[0m \u001b[0mtarget\u001b[0m\u001b[0;34m:\u001b[0m\u001b[0;34m\u001b[0m\u001b[0;34m\u001b[0m\u001b[0m\n\u001b[0;32m-> 1691\u001b[0;31m             \u001b[0mshutil\u001b[0m\u001b[0;34m.\u001b[0m\u001b[0mcopyfileobj\u001b[0m\u001b[0;34m(\u001b[0m\u001b[0msource\u001b[0m\u001b[0;34m,\u001b[0m \u001b[0mtarget\u001b[0m\u001b[0;34m)\u001b[0m\u001b[0;34m\u001b[0m\u001b[0;34m\u001b[0m\u001b[0m\n\u001b[0m\u001b[1;32m   1692\u001b[0m \u001b[0;34m\u001b[0m\u001b[0m\n\u001b[1;32m   1693\u001b[0m         \u001b[0;32mreturn\u001b[0m \u001b[0mtargetpath\u001b[0m\u001b[0;34m\u001b[0m\u001b[0;34m\u001b[0m\u001b[0m\n",
      "\u001b[0;31mKeyboardInterrupt\u001b[0m: "
     ]
    }
   ],
   "source": [
    "for year in yearlist:\n",
    "    for month in monthlist:\n",
    "        if not pull_data(f\"{year}{month}-citibike-tripdata.zip\"):\n",
    "            pull_data(f\"{year}{month}-citibike-tripdata.csv.zip\")"
   ]
  },
  {
   "cell_type": "code",
   "execution_count": 114,
   "metadata": {},
   "outputs": [
    {
     "name": "stdout",
     "output_type": "stream",
     "text": [
      "Request Success: 202006-citibike-tripdata.zip requested from Citibike S3 Bucket\n",
      "Skipped: 202006-citibike-tripdata.csv already extracted from Citbike S3 Bucket \n",
      "\n"
     ]
    }
   ],
   "source": [
    "pull_data(\"202006-citibike-tripdata.zip\");"
   ]
  },
  {
   "cell_type": "code",
   "execution_count": null,
   "metadata": {},
   "outputs": [],
   "source": []
  }
 ],
 "metadata": {
  "instance_type": "ml.t3.medium",
  "kernelspec": {
   "display_name": "Python 3 (Data Science)",
   "language": "python",
   "name": "python3__SAGEMAKER_INTERNAL__arn:aws:sagemaker:us-east-2:429704687514:image/datascience-1.0"
  },
  "language_info": {
   "codemirror_mode": {
    "name": "ipython",
    "version": 3
   },
   "file_extension": ".py",
   "mimetype": "text/x-python",
   "name": "python",
   "nbconvert_exporter": "python",
   "pygments_lexer": "ipython3",
   "version": "3.7.6"
  }
 },
 "nbformat": 4,
 "nbformat_minor": 4
}
