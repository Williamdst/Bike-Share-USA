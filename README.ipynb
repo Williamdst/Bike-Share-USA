{
 "cells": [
  {
   "cell_type": "markdown",
   "metadata": {},
   "source": [
    "<nav style=\"text-align:center;\">\n",
    "    <img style=\"float:right\" src=\"./Data/Images/Report/0000.Springboard.jpg\" width=\"70\" height=\"70\" />\n",
    "    <span style=\"float:center;text-align:center\">\n",
    "        <p style=\"text-align:center;margin:0;font-size:12px;color:#c1121f\"> <b> Data Science = Solving Problems = Happiness </b> </p>\n",
    "        <p style=\"text-align:center;font-size:40px;margin:0\"> <b> Bike Share USA</b> </p>\n",
    "        <p style=\"text-align:center;margin:0\"> Denzel S. Williams </p>\n",
    "        <p style=\"text-align:center;margin:0\"> <i> Springboard Data Science Track '20 </i> </p>\n",
    "    </span>\n",
    "</nav>\n"
   ]
  },
  {
   "cell_type": "markdown",
   "metadata": {},
   "source": [
    "<h2> The Inspiration </h2>\n",
    "\n",
    "From 2013 - 2020 I lived in Melbourne, FL without a car; and for those 7 years I pretty much walked to every spot in the 32901/32905 zip code. Grocery stores, check; The Mall, check; College, check; Downtown, check; The Gym, check; Restaurants, check; Barber Shop, check; Places that shouldn't be listed, check. \n",
    "\n",
    "<p style=\"text-align:center\"> <i><b> Shoutout to any friend that ever gave me a ride to any place ever.</b></i></p>\n",
    "\n",
    "The height of my walking took place in the last two years when I was teaching at Palm Bay HS. The public bus to take me to the school came ONCE every hour at an inconveient time either getting me to work too early or too late. Even worse the routes were not symmetrical and the bus couldn't take me back home. So the solution was to walk in the Florida heat everyday for two years.\n",
    "<ul>\n",
    "    <li> Why didn't you buy a car? I was BARELY not a broke college student.\n",
    "    <li> Ok, why didn't you just get a bike? My apartment couldn't accommodate a bike.\n",
    "    <li> You could've taken Ubers. Have you lost your mind???\n",
    "</ul>\n",
    "\n",
    "Moving back home in 2020, I discovered New York City's bike sharing program, CitiBike, and wished I had this service during my time in Florida. Even better, I am \"fortunate\" enough to live in a zip code that <b>doesn't</b> have bikes. So out of wishful thinking and an accidental ingredient of pure jealously, the Bike Share USA project was born. "
   ]
  },
  {
   "cell_type": "markdown",
   "metadata": {},
   "source": [
    "<div style=\"clear: right;\">\n",
    "   <p style=\"float: right;\"> \n",
    "       <figure style=\"float:right;text-align:center\">\n",
    "           <div>\n",
    "               <img src=\"./Data/Images/Report/0001.Shared-Micromobility-Graph.png\" width=\"350\" height=\"350\" />\n",
    "           </div>\n",
    "           <div>\n",
    "               <img src=\"./Data/Images/Report/0002.Shared-Micromobility-Map.png\" width=\"350\" height=\"350\" />\n",
    "           </div>\n",
    "           <figcaption> Figure 1. NACTO 2019 Shared Micromobility Report Graphs </figcaption>\n",
    "       </figure>\n",
    "   </p>\n",
    "    <p><h2> Introduction </h2>\n",
    "Every major human advancement improved how people, things, or ideas moved from one point to another. Ancient innovations such as agriculture, providing us with a surplus of food, enabled us to stop moving and build civilizations. Present day innovations such as the Internet has taken movement to all new levels. Leveraging the internet, you can order a package and have it delivered by day end or you can send software money, permissionlessly, from one end of the world to another. More so, the internet enables the global movement of information at near instant speeds. \n",
    "\n",
    "When it comes to the physical transportation of people, intra-planet space travel and self-driving cars are the talk of the town. However, the greatest macro transportation revolution is happening on a micro level.  Micromobility refers to a range of small, lightweight vehicles operating at speeds typically below 15-mph and driven by users personally. Micromobility devices include, bicycles, e-bikes, electric scooters and skateboards, shared bicycles, and electric pedal assisted bicycles <a href=\"https://en.wikipedia.org/wiki/Micromobility\" target=\"_blank\"> [1]</a>. \n",
    "         \n",
    "According to the 2019 Shared Micromobility Snapshot, published by the National Association of City Transportation Officials (NACTO), the number of trips taken on shared bicycles, e-bikes, and scooters was 136 million; up 60% from 2018’s 84 million and 288% from 2017’s 35 million <a href=\"https://nacto.org/shared-micromobility-2019/\"> [2]</a>.  Although there is not any official data about transportation mode shifting, their survey data suggests that Micromobility might be replacing car trips. The United States (US) has about 19,495 incorporated cities, towns, and villages and of those, 310 are considered at least medium cities with populations of 100,000 or more <a href=\"https://worldpopulationreview.com/us-city-rankings/how-many-cities-are-in-the-us\"> [3]</a>. Looking at the NACTO map there are only about 130 cities that have micromobility services. Imagine if there were micromobility services in all 310 of those cities. Better yet, imagine every part of the United States having micromobility services and instead of a sparse map the shared micromobility map resembled a Verizon 4G LTE Coverage map. \n",
    "         <p style=\"text-align:center;\"> <b>The goal of this project is to expand the station-based bike sharing sector of a State's micromobility services. The idea is to use both zip code and bike sharing data of areas that have stations to build a model that can predict the number of stations that should be built in no-station zip codes. The question that this project is looking to answer is: How many bike sharing stations should be built in the zip codes that already have bike stations within the States of: CA, MA, D.C., MD, VA, NJ, NY, and IL?</b> </p> \n",
    "</p>\n",
    "</div>"
   ]
  },
  {
   "cell_type": "markdown",
   "metadata": {},
   "source": [
    "<h2> The Data Wrangling </h2>\n",
    "\n",
    "The data used to complete the project can be broken into four major groups. The first two groups were fundamental to completing the project and the other half were required for the Exploratory Data Analytics (EDA):\n",
    "\n",
    "<b> Bike Share Trip Datasets </b> <br>\n",
    "The subset of zip codes that have bike stations are derived from the five largest bike sharing services in the US: Bay Wheels, Blue Bike, Capital Bikeshare, Citi Bike, and Divvy Bike. Each company hosts their trip data on S3 buckets for public use. These datasets hold key information about each trip that was taken by their customers. The rows of the datasets represent a single trip; the columns are the properties of the trip such as the starting station and the time when the trip ended. Since the trip data includes the start and end stations, the station data used to make the predictions was derived from these datasets.\n",
    "\n",
    "- Dataset I - <a href=\"https://s3.amazonaws.com/baywheels-data/index.html\"> BayWheels S3 Trip Data Bucket </a>\n",
    "\n",
    "- Dataset II - <a href=\"https://s3.amazonaws.com/hubway-data/index.html\"> BlueBike S3 Trip Data Bucket </a>\n",
    "\n",
    "- Dataset III - <a href=\"https://s3.amazonaws.com/capitalbikeshare-data/index.html\"> Capital S3 Trip Data Bucket </a>\n",
    "\n",
    "- Dataset IV - <a href=\"https://s3.amazonaws.com/tripdata/index.html\"> CitiBike S3 Trip Data Bucket </a>\n",
    "\n",
    "- Dataset V - <a href=\"https://divvy-tripdata.s3.amazonaws.com/index.html\"> DivvyBike S3 Trip Data Bucket </a>\n",
    "\n",
    "\n",
    "<b> Zip Code Datasets </b> <br>\n",
    "All the zip codes of the US along with the properties of the zip code are included in this group. Properties such as the total population, core based statistical area classification, and water area are included. Two supplementary files were used to help fill missing values within the main zip code file. \n",
    "\n",
    "- Dataset XI - Zipcode USA Data\n",
    "- Dataset XII -<a href=\"https://www2.census.gov/programs-surveys/metro-micro/geographies/reference-files/2020/delineation-files/list1_2020.xls\" > Delineation File </a>\n",
    "\n",
    "- Dataset XIII -\n",
    "<a href=\"https://www.huduser.gov/portal/datasets/usps_crosswalk.html\"> USPS Zipcode Crosswalk Files</a>\n",
    "\n",
    "\n",
    "\n",
    "<b> Geospatial Datasets </b> <br>\n",
    "New York City (NYC) and San Francisco has geospatial boundaries of their segmented neighborhoods. The datasets in this group contain those geospatial multi-polygons. Additionally, the geospatial locations of the MTA Subway Entrances was gathered for particular analytics section.\n",
    "\n",
    "- Dataset VIII - <a href=\"https://data.cityofnewyork.us/api/geospatial/yfnk-k7r4?method=export&format=GeoJSON\"> NYC Community District GeoJSON File </a>\n",
    "\n",
    "- Dataset IX - <a href=\"https://data.sfgov.org/api/geospatial/p5b7-5n3h?method=export&format=GeoJSON\"> San Francisco Community District GeoJSON File </a>\n",
    "\n",
    "- Dataset X - <a href=\"https://data.cityofnewyork.us/api/geospatial/drex-xx56?method=export&format=GeoJSON\"> Subway Entrance GeoJSON File </a>\n",
    "\n",
    "\n",
    "    \n",
    "<b> Neighborhood Profile Datasets </b> <br>\n",
    "The datasets in this group have the demographics of those segmented neighborhoods. These demographics, when combined with the geospatial data were used to do two custom analyses in the EDA portion of the project. The analysis used both the station location point geometries and the Voronoi polygons of the station locations. \n",
    "\n",
    "- Dataset VI - <a href = \"https://furmancenter.org/neighborhoods\"> New York City Neighborhood Profiles </a>\n",
    "\n",
    "- Dataset VII - <a href = \"https://default.sfplanning.org/publications_reports/SF_NGBD_SocioEconomic_Profiles/2012-2016_ACS_Profile_Neighborhoods_Final.pdf\"> San Francisco Neighborhood Profiles"
   ]
  },
  {
   "cell_type": "markdown",
   "metadata": {},
   "source": [
    "<h2> The Database </h2>\n",
    "\n",
    "All the datasets summed to over 68 GB of data across 350+ files. To work with this data, the best course of action was to build a database. Leveraging the Amazon Web Services (AWS) Cloud a RDS Database running PostgreSQL 12.5 was created on a db.t3.micro instance. With the blank database created, before doing anything, it was important to think about how the data was going to be used for analytics; to determine how it should be feed into the database. With that idea in mind an Entity Relationship Diagram (ERD) was created to structure the database and guide the transformation portion of the upcoming Extract Transform and Load (ETL) jobs. \n",
    "\n",
    "<figure style=\"text-align:center\">\n",
    "    <img src=\"./Data/Images/Report/0003.ERD-Final.png\" style=\"max-width:50%\" />\n",
    "    <figcaption style=\"text-align:center\"> Figure 2. Entity Relationship Diagram of the Database </figcaption>\n",
    "</figure>"
   ]
  },
  {
   "cell_type": "code",
   "execution_count": null,
   "metadata": {},
   "outputs": [],
   "source": []
  }
 ],
 "metadata": {
  "kernelspec": {
   "display_name": "",
   "name": ""
  },
  "language_info": {
   "name": ""
  }
 },
 "nbformat": 4,
 "nbformat_minor": 4
}
