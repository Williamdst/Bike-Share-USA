{
 "cells": [
  {
   "cell_type": "markdown",
   "metadata": {},
   "source": [
    "## Grabing the Data From the CitiBike S3 Bucket"
   ]
  },
  {
   "cell_type": "code",
   "execution_count": 14,
   "metadata": {},
   "outputs": [],
   "source": [
    "import pandas as pd\n",
    "import requests, glob, zipfile, io   # Needed to pull data from CitiBike S3 bucket\n"
   ]
  },
  {
   "cell_type": "code",
   "execution_count": 97,
   "metadata": {},
   "outputs": [],
   "source": [
    "CITIBIKE_DATA_FOLDER = \"https://s3.amazonaws.com/tripdata/\"    "
   ]
  },
  {
   "cell_type": "code",
   "execution_count": 110,
   "metadata": {},
   "outputs": [],
   "source": [
    "def pull_data(filename):\n",
    "    try:\n",
    "        r = requests.get(CITIBIKE_DATA_FOLDER + filename, stream=True)   \n",
    "        r.raise_for_status()  \n",
    "    except requests.exceptions.HTTPError as errh:\n",
    "        return (errh)\n",
    "    except requests.exceptions.ConnectionError as errc:\n",
    "        return (errc)\n",
    "    except requests.exceptions.Timeout as errt:\n",
    "        return (errt)\n",
    "    except requests.exceptions.RequestException as err:\n",
    "        return (err)\n",
    "\n",
    "    #.content is an attribute of the request.Response() object that returns the conent of object in bytes\n",
    "    with zipfile.ZipFile(io.BytesIO(r.content), 'r') as data: \n",
    "        print(data.namelist())"
   ]
  },
  {
   "cell_type": "code",
   "execution_count": 114,
   "metadata": {},
   "outputs": [
    {
     "name": "stdout",
     "output_type": "stream",
     "text": [
      "['202006-citibike-tripdata.csv', '__MACOSX/', '__MACOSX/._202006-citibike-tripdata.csv']\n"
     ]
    }
   ],
   "source": [
    "pull_data(\"202006-citibike-tripdata.csv.zip\")"
   ]
  },
  {
   "cell_type": "code",
   "execution_count": 67,
   "metadata": {},
   "outputs": [
    {
     "name": "stdout",
     "output_type": "stream",
     "text": [
      "b'JournalDev Python: \\x00\\x01'\n",
      "b'JournalDev Python: \\x00\\x01'\n"
     ]
    }
   ],
   "source": [
    "stream_str = io.BytesIO(b\"JournalDev Python: \\x00\\x01\")\n",
    "print(b\"JournalDev Python: \\x00\\x01\")\n",
    "print(stream_str.getvalue())\n"
   ]
  },
  {
   "cell_type": "code",
   "execution_count": null,
   "metadata": {},
   "outputs": [],
   "source": []
  }
 ],
 "metadata": {
  "instance_type": "ml.t3.medium",
  "kernelspec": {
   "display_name": "Python 3 (Data Science)",
   "language": "python",
   "name": "python3__SAGEMAKER_INTERNAL__arn:aws:sagemaker:us-east-2:429704687514:image/datascience-1.0"
  },
  "language_info": {
   "codemirror_mode": {
    "name": "ipython",
    "version": 3
   },
   "file_extension": ".py",
   "mimetype": "text/x-python",
   "name": "python",
   "nbconvert_exporter": "python",
   "pygments_lexer": "ipython3",
   "version": "3.7.6"
  }
 },
 "nbformat": 4,
 "nbformat_minor": 4
}
