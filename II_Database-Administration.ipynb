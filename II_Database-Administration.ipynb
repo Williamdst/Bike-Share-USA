{
 "cells": [
  {
   "cell_type": "markdown",
   "metadata": {},
   "source": [
    "## Connecting to the Database"
   ]
  },
  {
   "cell_type": "code",
   "execution_count": 1,
   "metadata": {},
   "outputs": [
    {
     "name": "stdout",
     "output_type": "stream",
     "text": [
      "Collecting psycopg2-binary\n",
      "  Using cached psycopg2_binary-2.8.6-cp37-cp37m-manylinux1_x86_64.whl (3.0 MB)\n",
      "Installing collected packages: psycopg2-binary\n",
      "Successfully installed psycopg2-binary-2.8.6\n",
      "Note: you may need to restart the kernel to use updated packages.\n"
     ]
    }
   ],
   "source": [
    "pip install psycopg2-binary;"
   ]
  },
  {
   "cell_type": "code",
   "execution_count": 2,
   "metadata": {},
   "outputs": [],
   "source": [
    "import psycopg2"
   ]
  },
  {
   "cell_type": "code",
   "execution_count": 3,
   "metadata": {},
   "outputs": [],
   "source": [
    "# Put the password in \n",
    "PGHOST = 'tripdatabase.cmaaautpgbsf.us-east-2.rds.amazonaws.com'\n",
    "PGDATABASE = ''\n",
    "PGUSER = 'postgres'\n",
    "PGPASSWORD = 'Josh1234'"
   ]
  },
  {
   "cell_type": "code",
   "execution_count": 4,
   "metadata": {},
   "outputs": [
    {
     "name": "stdout",
     "output_type": "stream",
     "text": [
      "Connection Success: ('PostgreSQL 12.4 on x86_64-pc-linux-gnu, compiled by gcc (GCC) 4.8.5 20150623 (Red Hat 4.8.5-11), 64-bit',) \n",
      "\n"
     ]
    }
   ],
   "source": [
    "try:   \n",
    "    # Set up a connection to the postgres server.    \n",
    "    conn = psycopg2.connect(user = PGUSER,\n",
    "                            port = \"5432\",\n",
    "                            password = PGPASSWORD,\n",
    "                            host = PGHOST,\n",
    "                            database = PGDATABASE)\n",
    "    # Create a cursor object\n",
    "    cursor = conn.cursor()   \n",
    "    cursor.execute(\"SELECT version();\")\n",
    "    record = cursor.fetchone()\n",
    "    print(\"Connection Success:\", record,\"\\n\")\n",
    "\n",
    "except (Exception, psycopg2.Error) as error:\n",
    "    print(\"Error while connecting to PostgreSQL\", error)"
   ]
  },
  {
   "cell_type": "markdown",
   "metadata": {},
   "source": [
    "## Creating the Indexes\n",
    "In the previous notebook the data was partitioned by year-month to help speed up queries. To further help query execution time we will create indexes on both the startid and endid of the trip table"
   ]
  },
  {
   "cell_type": "code",
   "execution_count": 5,
   "metadata": {},
   "outputs": [
    {
     "ename": "DuplicateTable",
     "evalue": "relation \"idx_trip_startid\" already exists\n",
     "output_type": "error",
     "traceback": [
      "\u001b[0;31m---------------------------------------------------------------------------\u001b[0m",
      "\u001b[0;31mDuplicateTable\u001b[0m                            Traceback (most recent call last)",
      "\u001b[0;32m<ipython-input-5-7b1410d7003a>\u001b[0m in \u001b[0;36m<module>\u001b[0;34m\u001b[0m\n\u001b[1;32m      1\u001b[0m \u001b[0mstartid_idx_query\u001b[0m \u001b[0;34m=\u001b[0m \u001b[0;34m\"CREATE INDEX idx_trip_startid ON trip(startid);\"\u001b[0m\u001b[0;34m\u001b[0m\u001b[0;34m\u001b[0m\u001b[0m\n\u001b[1;32m      2\u001b[0m \u001b[0mcursor\u001b[0m\u001b[0;34m.\u001b[0m\u001b[0mexecute\u001b[0m\u001b[0;34m(\u001b[0m\u001b[0;34m\"rollback;\"\u001b[0m\u001b[0;34m)\u001b[0m\u001b[0;34m\u001b[0m\u001b[0;34m\u001b[0m\u001b[0m\n\u001b[0;32m----> 3\u001b[0;31m \u001b[0mcursor\u001b[0m\u001b[0;34m.\u001b[0m\u001b[0mexecute\u001b[0m\u001b[0;34m(\u001b[0m\u001b[0mstartid_idx_query\u001b[0m\u001b[0;34m)\u001b[0m\u001b[0;34m\u001b[0m\u001b[0;34m\u001b[0m\u001b[0m\n\u001b[0m\u001b[1;32m      4\u001b[0m \u001b[0mconn\u001b[0m\u001b[0;34m.\u001b[0m\u001b[0mcommit\u001b[0m\u001b[0;34m(\u001b[0m\u001b[0;34m)\u001b[0m\u001b[0;34m\u001b[0m\u001b[0;34m\u001b[0m\u001b[0m\n",
      "\u001b[0;31mDuplicateTable\u001b[0m: relation \"idx_trip_startid\" already exists\n"
     ]
    }
   ],
   "source": [
    "startid_idx_query = \"CREATE INDEX idx_trip_startid ON trip(startid);\"\n",
    "cursor.execute(\"rollback;\")\n",
    "cursor.execute(startid_idx_query)\n",
    "conn.commit()"
   ]
  },
  {
   "cell_type": "code",
   "execution_count": null,
   "metadata": {},
   "outputs": [],
   "source": [
    "endid_idx_query = \"CREATE INDEX idx_trip_endid ON trip(endid)\"\n",
    "cursor.execute(\"rollback;\")\n",
    "cursor.execute(endid_idx_query)\n",
    "conn.commit()"
   ]
  },
  {
   "cell_type": "markdown",
   "metadata": {},
   "source": [
    "## Cleaning the Database I - Removing Trips that aren't Contained in NYC\n",
    "\n",
    "In the previous notebook, when the neighbborhood data was inner joined to the station data, the stations that were not in NYC were dropped. Although removed from the stations table, there are still trips in the trip table that have the dropped stations. In this section the goal is to remove those trips that are not fully contained within NYC. \n",
    "\n",
    "*Note: Not in NYC is defined as trip either starting or ending at a station that is not in NYC.*\n",
    "\n",
    "**Before we drop the trips that involve New Jersey (NJ), let's see how much of the market share NJ is gathering over time.**\n",
    "\n",
    "*Note: There are other important questions that could be asked about the NJ data, however, this project is focused on NYC data. For now, more complex NJ based questions are out of scope.*"
   ]
  },
  {
   "cell_type": "code",
   "execution_count": 6,
   "metadata": {},
   "outputs": [],
   "source": [
    "import pandas as pd\n",
    "import Queries"
   ]
  },
  {
   "cell_type": "code",
   "execution_count": 7,
   "metadata": {},
   "outputs": [],
   "source": [
    "# Counts the number of trips per year\n",
    "colnames, data = Queries.countYearlyTrips(conn)    # Query-0001 in file\n",
    "all_trips_df = pd.DataFrame(data, columns=colnames)"
   ]
  },
  {
   "cell_type": "code",
   "execution_count": 8,
   "metadata": {},
   "outputs": [],
   "source": [
    "colnames, data = Queries.countYearlyNJTrips(conn)   # Query-0002 in file\n",
    "NJ_trips_df = pd.DataFrame(data, columns=colnames)"
   ]
  },
  {
   "cell_type": "code",
   "execution_count": 12,
   "metadata": {},
   "outputs": [],
   "source": [
    "market_share = NJ_trips_df.merge(all_trips_df, on='year',suffixes=['_nj','_all'])"
   ]
  },
  {
   "cell_type": "code",
   "execution_count": 13,
   "metadata": {},
   "outputs": [],
   "source": [
    "market_share['nj_percent'] = round(market_share['trips_nj'] / market_share['trips_all'], 4)* 100"
   ]
  },
  {
   "cell_type": "code",
   "execution_count": 14,
   "metadata": {},
   "outputs": [
    {
     "data": {
      "text/html": [
       "<div>\n",
       "<style scoped>\n",
       "    .dataframe tbody tr th:only-of-type {\n",
       "        vertical-align: middle;\n",
       "    }\n",
       "\n",
       "    .dataframe tbody tr th {\n",
       "        vertical-align: top;\n",
       "    }\n",
       "\n",
       "    .dataframe thead th {\n",
       "        text-align: right;\n",
       "    }\n",
       "</style>\n",
       "<table border=\"1\" class=\"dataframe\">\n",
       "  <thead>\n",
       "    <tr style=\"text-align: right;\">\n",
       "      <th></th>\n",
       "      <th>year</th>\n",
       "      <th>trips_nj</th>\n",
       "      <th>trips_all</th>\n",
       "      <th>nj_percent</th>\n",
       "    </tr>\n",
       "  </thead>\n",
       "  <tbody>\n",
       "    <tr>\n",
       "      <th>0</th>\n",
       "      <td>2013.0</td>\n",
       "      <td>67094</td>\n",
       "      <td>5614874</td>\n",
       "      <td>1.19</td>\n",
       "    </tr>\n",
       "    <tr>\n",
       "      <th>1</th>\n",
       "      <td>2014.0</td>\n",
       "      <td>55277</td>\n",
       "      <td>8081195</td>\n",
       "      <td>0.68</td>\n",
       "    </tr>\n",
       "    <tr>\n",
       "      <th>2</th>\n",
       "      <td>2015.0</td>\n",
       "      <td>183470</td>\n",
       "      <td>9936604</td>\n",
       "      <td>1.85</td>\n",
       "    </tr>\n",
       "    <tr>\n",
       "      <th>3</th>\n",
       "      <td>2016.0</td>\n",
       "      <td>618237</td>\n",
       "      <td>13843677</td>\n",
       "      <td>4.47</td>\n",
       "    </tr>\n",
       "    <tr>\n",
       "      <th>4</th>\n",
       "      <td>2017.0</td>\n",
       "      <td>948903</td>\n",
       "      <td>16363238</td>\n",
       "      <td>5.80</td>\n",
       "    </tr>\n",
       "    <tr>\n",
       "      <th>5</th>\n",
       "      <td>2018.0</td>\n",
       "      <td>1010194</td>\n",
       "      <td>17548339</td>\n",
       "      <td>5.76</td>\n",
       "    </tr>\n",
       "    <tr>\n",
       "      <th>6</th>\n",
       "      <td>2019.0</td>\n",
       "      <td>1128002</td>\n",
       "      <td>20551697</td>\n",
       "      <td>5.49</td>\n",
       "    </tr>\n",
       "    <tr>\n",
       "      <th>7</th>\n",
       "      <td>2020.0</td>\n",
       "      <td>1086898</td>\n",
       "      <td>16681224</td>\n",
       "      <td>6.52</td>\n",
       "    </tr>\n",
       "  </tbody>\n",
       "</table>\n",
       "</div>"
      ],
      "text/plain": [
       "     year  trips_nj  trips_all  nj_percent\n",
       "0  2013.0     67094    5614874        1.19\n",
       "1  2014.0     55277    8081195        0.68\n",
       "2  2015.0    183470    9936604        1.85\n",
       "3  2016.0    618237   13843677        4.47\n",
       "4  2017.0    948903   16363238        5.80\n",
       "5  2018.0   1010194   17548339        5.76\n",
       "6  2019.0   1128002   20551697        5.49\n",
       "7  2020.0   1086898   16681224        6.52"
      ]
     },
     "execution_count": 14,
     "metadata": {},
     "output_type": "execute_result"
    }
   ],
   "source": [
    "market_share"
   ]
  },
  {
   "cell_type": "code",
   "execution_count": null,
   "metadata": {},
   "outputs": [],
   "source": [
    "# Deleting the NJ data\n",
    "Queries.deleteNJTrips(conn)"
   ]
  },
  {
   "cell_type": "markdown",
   "metadata": {},
   "source": [
    "## Creating the Foreign Keys\n",
    "\n",
    "Up until this point, the tables in the database aren't connected to each other through relationships. With the NJ trips removed, we can now put Foreign Keys into place.\n",
    "\n",
    "- The startID and endID column in the Trip table are related to the PK stationID column in the Station table\n",
    "- The code column (neighborhood code) in the Station table are related to the PK code in the Neighborhood table\n",
    "- The PK code in the Profile table is related to the PK code in the Neighborhood table"
   ]
  },
  {
   "cell_type": "code",
   "execution_count": null,
   "metadata": {},
   "outputs": [],
   "source": [
    "fk_startID_query = \"\"\"\n",
    "        ALTER TABLE trip \n",
    "        ADD CONSTRAINT fk_start_stationID \n",
    "        FOREIGN KEY (startid) \n",
    "        REFERENCES station(stationid);\n",
    "        \"\"\"\n",
    "\n",
    "cursor.execute('rollback;')\n",
    "cursor.execute(fk_startID_query)\n",
    "conn.commit()"
   ]
  },
  {
   "cell_type": "code",
   "execution_count": 10,
   "metadata": {},
   "outputs": [],
   "source": [
    "fk_endID_query = \"\"\"\n",
    "        ALTER TABLE trip \n",
    "        ADD CONSTRAINT fk_end_stationID \n",
    "        FOREIGN KEY (endid) \n",
    "        REFERENCES station(stationid);\n",
    "        \"\"\"\n",
    "\n",
    "cursor.execute('rollback;')\n",
    "cursor.execute(fk_endID_query)\n",
    "conn.commit()"
   ]
  },
  {
   "cell_type": "code",
   "execution_count": 11,
   "metadata": {},
   "outputs": [],
   "source": [
    "fk_code_station_hood_query = \"\"\"\n",
    "        ALTER TABLE station\n",
    "        ADD CONSTRAINT fk_stationCode_hoodCode\n",
    "        FOREIGN KEY (code)\n",
    "        REFERENCES neighborhood(code);\n",
    "        \"\"\"\n",
    "\n",
    "cursor.execute('rollback;')\n",
    "cursor.execute(fk_code_station_hood_query)\n",
    "conn.commit()"
   ]
  },
  {
   "cell_type": "code",
   "execution_count": 12,
   "metadata": {},
   "outputs": [],
   "source": [
    "fk_code_profile_hood_query = \"\"\"\n",
    "        ALTER TABLE profile\n",
    "        ADD CONSTRAINT fk_profileCode_hoodCode\n",
    "        FOREIGN KEY (code)\n",
    "        REFERENCES neighborhood(code);\n",
    "        \"\"\"\n",
    "cursor.execute('rollback;')\n",
    "cursor.execute(fk_code_profile_hood_query)\n",
    "conn.commit()"
   ]
  }
 ],
 "metadata": {
  "instance_type": "ml.t3.medium",
  "kernelspec": {
   "display_name": "Python 3 (Data Science)",
   "language": "python",
   "name": "python3__SAGEMAKER_INTERNAL__arn:aws:sagemaker:us-east-2:429704687514:image/datascience-1.0"
  },
  "language_info": {
   "codemirror_mode": {
    "name": "ipython",
    "version": 3
   },
   "file_extension": ".py",
   "mimetype": "text/x-python",
   "name": "python",
   "nbconvert_exporter": "python",
   "pygments_lexer": "ipython3",
   "version": "3.7.6"
  }
 },
 "nbformat": 4,
 "nbformat_minor": 4
}
